{
 "cells": [
  {
   "cell_type": "code",
   "id": "initial_id",
   "metadata": {
    "collapsed": true,
    "ExecuteTime": {
     "end_time": "2024-05-26T16:36:15.220302Z",
     "start_time": "2024-05-26T16:36:15.206723Z"
    }
   },
   "source": [
    "import torch\n",
    "from torch import nn, device\n",
    "import torch.nn.functional as F\n",
    "import matplotlib.pyplot as plt\n",
    "import numpy as np"
   ],
   "outputs": [],
   "execution_count": 5
  },
  {
   "metadata": {
    "ExecuteTime": {
     "end_time": "2024-05-26T16:36:15.404213Z",
     "start_time": "2024-05-26T16:36:15.221926Z"
    }
   },
   "cell_type": "code",
   "source": [
    "data=np.load('../data/mnist.npz')\n",
    "x_train=torch.tensor(data['x_train'],dtype=torch.float).reshape(-1,1,28,28)\n",
    "y_train=torch.tensor(data['y_train'],dtype=torch.int64)\n",
    "x_test=torch.tensor(data['x_test'],dtype=torch.float).reshape(-1,1,28,28)\n",
    "y_test=torch.tensor(data['y_test'],dtype=torch.int64)\n"
   ],
   "id": "b0fb1908c019f545",
   "outputs": [],
   "execution_count": 6
  },
  {
   "metadata": {
    "ExecuteTime": {
     "end_time": "2024-05-26T16:36:15.420213Z",
     "start_time": "2024-05-26T16:36:15.406154Z"
    }
   },
   "cell_type": "code",
   "source": [
    "\n",
    "net=nn.Sequential(nn.Conv2d(1,6,kernel_size=5,stride=1,padding=2),nn.Sigmoid(),nn.AvgPool2d(kernel_size=2,stride=2)\n",
    "                  ,nn.Conv2d(6,16,kernel_size=5),nn.Sigmoid(),nn.MaxPool2d(kernel_size=2,stride=2),nn.Flatten(),nn.Linear(16*5*5,120)\n",
    "                  ,nn.Linear(120,84),nn.Sigmoid(),nn.Linear(84,10))\n"
   ],
   "id": "fd9c4d8bdf314e2f",
   "outputs": [],
   "execution_count": 7
  },
  {
   "metadata": {
    "ExecuteTime": {
     "end_time": "2024-05-26T16:36:15.465668Z",
     "start_time": "2024-05-26T16:36:15.421215Z"
    }
   },
   "cell_type": "code",
   "source": [
    "X = torch.rand(size=(1, 1, 28, 28), dtype=torch.float32)\n",
    "for layer in net:\n",
    "     X = layer(X)\n",
    "     print(layer.__class__.__name__,'output shape: \\t',X.shape)"
   ],
   "id": "4b14a6061a4ddfb7",
   "outputs": [
    {
     "name": "stdout",
     "output_type": "stream",
     "text": [
      "Conv2d output shape: \t torch.Size([1, 6, 28, 28])\n",
      "Sigmoid output shape: \t torch.Size([1, 6, 28, 28])\n",
      "AvgPool2d output shape: \t torch.Size([1, 6, 14, 14])\n",
      "Conv2d output shape: \t torch.Size([1, 16, 10, 10])\n",
      "Sigmoid output shape: \t torch.Size([1, 16, 10, 10])\n",
      "MaxPool2d output shape: \t torch.Size([1, 16, 5, 5])\n",
      "Flatten output shape: \t torch.Size([1, 400])\n",
      "Linear output shape: \t torch.Size([1, 120])\n",
      "Linear output shape: \t torch.Size([1, 84])\n",
      "Sigmoid output shape: \t torch.Size([1, 84])\n",
      "Linear output shape: \t torch.Size([1, 10])\n"
     ]
    }
   ],
   "execution_count": 8
  },
  {
   "metadata": {
    "ExecuteTime": {
     "end_time": "2024-05-26T17:15:41.389494Z",
     "start_time": "2024-05-26T17:15:41.375983Z"
    }
   },
   "cell_type": "code",
   "source": [
    "from d2l import torch as d2l\n",
    "lr=0.1\n",
    "batch_size=256\n",
    "num_epoch=100"
   ],
   "id": "9d0829b61127341c",
   "outputs": [],
   "execution_count": 42
  },
  {
   "metadata": {
    "ExecuteTime": {
     "end_time": "2024-05-26T16:36:18.313417Z",
     "start_time": "2024-05-26T16:36:18.299351Z"
    }
   },
   "cell_type": "code",
   "source": "",
   "id": "aa72bd5cbb92f371",
   "outputs": [],
   "execution_count": 9
  },
  {
   "metadata": {
    "ExecuteTime": {
     "end_time": "2024-05-26T16:36:18.329088Z",
     "start_time": "2024-05-26T16:36:18.315549Z"
    }
   },
   "cell_type": "code",
   "source": [
    "class my_datasets(torch.utils.data.Dataset):\n",
    "    def __init__(self,data,transform=None):\n",
    "        self.data=data\n",
    "        self.transform=transform\n",
    "        self.x=data[0]\n",
    "        print(self.data[1].shape)\n",
    "    def __len__(self):\n",
    "        return len(self.x)\n",
    "    def __getitem__(self, idx):\n",
    "        sample=self.data[0][idx],self.data[1][idx]\n",
    "        \n",
    "        if self.transform:\n",
    "            sample=self.transform(sample[0]),self.transform(sample[1])\n",
    "        return sample\n",
    "        "
   ],
   "id": "c4c0b81be2c304b",
   "outputs": [],
   "execution_count": 10
  },
  {
   "metadata": {
    "ExecuteTime": {
     "end_time": "2024-05-26T16:43:16.107042Z",
     "start_time": "2024-05-26T16:43:16.092505Z"
    }
   },
   "cell_type": "code",
   "source": [
    "from torchvision import transforms\n",
    "from torch.utils import data\n",
    "train_iter=data.DataLoader(my_datasets((x_train,y_train)),batch_size=batch_size,shuffle=True)\n",
    "test_iter=data.DataLoader(my_datasets((x_test,y_test)),batch_size=batch_size,shuffle=False)"
   ],
   "id": "237995bc7eeab1c2",
   "outputs": [
    {
     "name": "stdout",
     "output_type": "stream",
     "text": [
      "torch.Size([60000])\n",
      "torch.Size([10000])\n"
     ]
    }
   ],
   "execution_count": 35
  },
  {
   "metadata": {
    "ExecuteTime": {
     "end_time": "2024-05-26T16:36:18.360305Z",
     "start_time": "2024-05-26T16:36:18.346150Z"
    }
   },
   "cell_type": "code",
   "source": "",
   "id": "839705b9eb425727",
   "outputs": [],
   "execution_count": 11
  },
  {
   "metadata": {
    "ExecuteTime": {
     "end_time": "2024-05-26T16:36:18.452822Z",
     "start_time": "2024-05-26T16:36:18.361316Z"
    }
   },
   "cell_type": "code",
   "source": [
    "import torchvision.datasets\n",
    "trans=transforms.ToTensor()#使plt类型变成float32\n",
    "mnist_train=torchvision.datasets.FashionMNIST(root='E:\\pytorch\\data', train=True, transform=trans, download=True)\n",
    "mnist_test=torchvision.datasets.FashionMNIST(root='E:\\pytorch\\data', train=False, transform=trans)\n",
    "mnist_train_iter=torch.utils.data.DataLoader(mnist_train,batch_size=batch_size,shuffle=True)\n",
    "mnist_test_iter=torch.utils.data.DataLoader(mnist_test,batch_size=batch_size,shuffle=False)"
   ],
   "id": "7bb2e9fb02488733",
   "outputs": [],
   "execution_count": 12
  },
  {
   "metadata": {
    "ExecuteTime": {
     "end_time": "2024-05-26T16:43:22.654217Z",
     "start_time": "2024-05-26T16:43:22.636605Z"
    }
   },
   "cell_type": "code",
   "source": "next(iter(mnist_train_iter))[1]",
   "id": "88b52e1048d24d25",
   "outputs": [
    {
     "data": {
      "text/plain": [
       "tensor([7, 8, 0, 8, 7, 2, 9, 7, 3, 9, 2, 3, 2, 5, 1, 5, 2, 9, 3, 1, 4, 4, 1, 1,\n",
       "        0, 5, 2, 5, 5, 0, 2, 5, 4, 6, 0, 6, 6, 3, 3, 2, 7, 7, 9, 3, 4, 4, 6, 3,\n",
       "        6, 7, 9, 6, 8, 4, 9, 1, 5, 5, 5, 2, 8, 6, 8, 7, 2, 2, 1, 8, 8, 4, 2, 0,\n",
       "        3, 3, 6, 6, 8, 3, 5, 2, 7, 0, 1, 2, 5, 0, 4, 2, 3, 7, 6, 8, 5, 1, 0, 0,\n",
       "        8, 5, 4, 9, 1, 9, 0, 3, 0, 4, 7, 4, 8, 7, 3, 9, 1, 5, 0, 5, 2, 5, 0, 1,\n",
       "        9, 6, 5, 6, 5, 1, 7, 5, 4, 5, 5, 8, 1, 3, 5, 5, 1, 2, 4, 3, 1, 7, 6, 8,\n",
       "        7, 3, 2, 9, 4, 5, 4, 6, 4, 0, 8, 8, 9, 6, 1, 0, 7, 0, 9, 7, 6, 4, 1, 6,\n",
       "        9, 4, 0, 0, 1, 9, 2, 9, 2, 9, 6, 3, 1, 4, 4, 0, 9, 0, 5, 6, 9, 4, 5, 0,\n",
       "        7, 8, 5, 2, 1, 3, 7, 4, 1, 1, 3, 5, 7, 3, 5, 5, 9, 6, 0, 5, 0, 6, 0, 5,\n",
       "        7, 8, 9, 0, 3, 5, 9, 0, 5, 8, 1, 0, 0, 5, 8, 3, 6, 3, 8, 6, 8, 5, 1, 9,\n",
       "        4, 0, 0, 2, 1, 4, 4, 6, 5, 6, 5, 6, 7, 5, 7, 2])"
      ]
     },
     "execution_count": 36,
     "metadata": {},
     "output_type": "execute_result"
    }
   ],
   "execution_count": 36
  },
  {
   "metadata": {
    "ExecuteTime": {
     "end_time": "2024-05-26T16:43:24.514461Z",
     "start_time": "2024-05-26T16:43:24.503317Z"
    }
   },
   "cell_type": "code",
   "source": [
    "def evaluate_accuracy_gpu(net, data_iter, device=None): #@save\n",
    "    \"\"\"使用GPU计算模型在数据集上的精度\"\"\"\n",
    "    if isinstance(net, nn.Module):\n",
    "        net.eval() # 设置为评估模式\n",
    "    if not device:\n",
    "        device = next(iter(net.parameters())).device\n",
    "# 正确预测的数量，总预测的数量\n",
    "    metric = d2l.Accumulator(2)\n",
    "    with torch.no_grad():\n",
    "        for X, y in data_iter:\n",
    "            if isinstance(X, list):\n",
    "    # BERT微调所需的（之后将介绍）\n",
    "                X = [x.to(device) for x in X]\n",
    "            else:\n",
    "                X = X.to(device)\n",
    "                y = y.to(device)\n",
    "            metric.add(d2l.accuracy(net(X), y), y.numel())\n",
    "    return metric[0] / metric[1]"
   ],
   "id": "88917fce0312b4e7",
   "outputs": [],
   "execution_count": 37
  },
  {
   "metadata": {
    "ExecuteTime": {
     "end_time": "2024-05-26T17:16:30.253295Z",
     "start_time": "2024-05-26T17:16:30.245384Z"
    }
   },
   "cell_type": "code",
   "source": [
    "def train_ch6(net, train_iter, test_iter, num_epochs, lr, device):\n",
    "    \"\"\"Train a model with a GPU (defined in Chapter 6).\n",
    "\n",
    "    Defined in :numref:`sec_utils`\"\"\"\n",
    "    def init_weights(m):\n",
    "        if type(m) == nn.Linear or type(m) == nn.Conv2d:\n",
    "            nn.init.xavier_uniform_(m.weight)\n",
    "    net.apply(init_weights)\n",
    "    print('training on', device)\n",
    "    net.to(device)\n",
    "    optimizer = torch.optim.SGD(net.parameters(), lr=lr)\n",
    "    loss = nn.CrossEntropyLoss()\n",
    "    animator = d2l.Animator(xlabel='epoch', xlim=[1, num_epochs],\n",
    "                            legend=['train loss', 'train acc', 'test acc'])\n",
    "    timer, num_batches = d2l.Timer(), len(train_iter)\n",
    "    for epoch in range(num_epochs):\n",
    "        # Sum of training loss, sum of training accuracy, no. of examples\n",
    "        metric = d2l.Accumulator(3)\n",
    "        net.train()\n",
    "        for i, (X, y) in enumerate(train_iter):\n",
    "            timer.start()\n",
    "            optimizer.zero_grad()\n",
    "            X, y = X.to(device), y.to(device)\n",
    "            y_hat = net(X)\n",
    "            l = loss(y_hat, y)\n",
    "            \n",
    "            \n",
    "            l.backward()\n",
    "            optimizer.step()\n",
    "            with torch.no_grad():\n",
    "                metric.add(l * X.shape[0], d2l.accuracy(y_hat, y), X.shape[0])\n",
    "              \n",
    "            timer.stop()\n",
    "            train_l = metric[0] / metric[2]\n",
    "            train_acc = metric[1] / metric[2]\n",
    "            if (i + 1) % (num_batches // 5) == 0 or i == num_batches - 1:\n",
    "                animator.add(epoch + (i + 1) / num_batches,\n",
    "                             (train_l, train_acc, None))\n",
    "        test_acc = evaluate_accuracy_gpu(net, test_iter)\n",
    "        animator.add(epoch + 1, (None, None, test_acc))\n",
    "    print(f'loss {train_l:.3f}, train acc {train_acc:.3f}, '\n",
    "          f'test acc {test_acc:.3f}')\n",
    "    print(f'{metric[2] * num_epochs / timer.sum():.1f} examples/sec '\n",
    "          f'on {str(device)}')\n",
    "    \n"
   ],
   "id": "fdec8cb3ed56745c",
   "outputs": [],
   "execution_count": 48
  },
  {
   "metadata": {
    "jupyter": {
     "is_executing": true
    }
   },
   "cell_type": "code",
   "source": [
    "\n",
    "train_ch6(net, train_iter, test_iter,num_epoch,lr,d2l.try_gpu())\n"
   ],
   "id": "2dc336bfb04c6af",
   "execution_count": null,
   "outputs": []
  },
  {
   "metadata": {},
   "cell_type": "code",
   "source": "torch.save(net.state_dict(), './model_1.pth')",
   "id": "3be4946561200cb0",
   "outputs": [],
   "execution_count": null
  },
  {
   "metadata": {},
   "cell_type": "code",
   "source": "x=torch.rand(size=(1,1, 28, 28), dtype=torch.float32)",
   "id": "e6c97443969be34d",
   "outputs": [],
   "execution_count": null
  },
  {
   "metadata": {},
   "cell_type": "code",
   "source": [
    "model=net=nn.Sequential(nn.Conv2d(1,6,kernel_size=5,stride=1,padding=2),nn.Sigmoid(),nn.AvgPool2d(kernel_size=2,stride=2)\n",
    "                  ,nn.Conv2d(6,16,kernel_size=5),nn.Sigmoid(),nn.MaxPool2d(kernel_size=2,stride=2),nn.Flatten(),nn.Linear(16*5*5,120)\n",
    "                  ,nn.Linear(120,84),nn.Sigmoid(),nn.Linear(84,10))\n",
    "model.load_state_dict(torch.load('./model_1.pth'))\n",
    "model.eval()\n",
    "model(x),net(x)"
   ],
   "id": "82c9bf556164d81",
   "outputs": [],
   "execution_count": null
  }
 ],
 "metadata": {
  "kernelspec": {
   "display_name": "Python 3",
   "language": "python",
   "name": "python3"
  },
  "language_info": {
   "codemirror_mode": {
    "name": "ipython",
    "version": 2
   },
   "file_extension": ".py",
   "mimetype": "text/x-python",
   "name": "python",
   "nbconvert_exporter": "python",
   "pygments_lexer": "ipython2",
   "version": "2.7.6"
  }
 },
 "nbformat": 4,
 "nbformat_minor": 5
}
