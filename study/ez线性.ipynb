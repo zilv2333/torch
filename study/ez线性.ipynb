{
 "cells": [
  {
   "cell_type": "code",
   "id": "initial_id",
   "metadata": {
    "collapsed": true,
    "ExecuteTime": {
     "end_time": "2024-04-11T12:17:00.048072Z",
     "start_time": "2024-04-11T12:16:56.963074Z"
    }
   },
   "source": [
    "import numpy as np\n",
    "import torch\n",
    "from torch.utils import data\n",
    "from d2l import torch as d2l"
   ],
   "outputs": [],
   "execution_count": 1
  },
  {
   "metadata": {
    "ExecuteTime": {
     "end_time": "2024-04-11T12:17:00.188265Z",
     "start_time": "2024-04-11T12:17:00.050196Z"
    }
   },
   "cell_type": "code",
   "source": [
    "true_w=torch.tensor([2,-3.4])\n",
    "true_b=torch.tensor(4.2)\n",
    "features,labels=d2l.synthetic_data(true_w,true_b,1000)#随机数据集\n",
    "d2l.plt.scatter(features[:,1],labels,1)"
   ],
   "id": "d1c82171feef958d",
   "outputs": [
    {
     "data": {
      "text/plain": [
       "<matplotlib.collections.PathCollection at 0x2167eedb790>"
      ]
     },
     "execution_count": 2,
     "metadata": {},
     "output_type": "execute_result"
    },
    {
     "data": {
      "text/plain": [
       "<Figure size 640x480 with 1 Axes>"
      ],
      "image/png": "[encoded data removed]"
     },
     "metadata": {},
     "output_type": "display_data"
    }
   ],
   "execution_count": 2
  },
  {
   "metadata": {
    "ExecuteTime": {
     "end_time": "2024-04-11T12:47:21.762451Z",
     "start_time": "2024-04-11T12:47:21.743377Z"
    }
   },
   "cell_type": "code",
   "source": "",
   "id": "454784cbe3ead714",
   "outputs": [
    {
     "data": {
      "text/plain": [
       "torch.Tensor"
      ]
     },
     "execution_count": 44,
     "metadata": {},
     "output_type": "execute_result"
    }
   ],
   "execution_count": 44
  },
  {
   "metadata": {
    "ExecuteTime": {
     "end_time": "2024-04-11T12:51:59.109646Z",
     "start_time": "2024-04-11T12:51:59.095435Z"
    }
   },
   "cell_type": "code",
   "source": [
    "def load_array(data_arrays,batch_size,is_train=True):\n",
    "    dataset=data.TensorDataset(*data_arrays)\n",
    "    return data.DataLoader(dataset=dataset,batch_size=batch_size,shuffle=is_train) \n",
    "    #自带函数shuffle是否打乱,迭代器类型\n"
   ],
   "id": "5787d88318a85fec",
   "outputs": [],
   "execution_count": 61
  },
  {
   "metadata": {
    "ExecuteTime": {
     "end_time": "2024-04-11T12:51:59.880461Z",
     "start_time": "2024-04-11T12:51:59.866187Z"
    }
   },
   "cell_type": "code",
   "source": [
    "batch_size=10\n",
    "data_iter=load_array((features,labels),batch_size,is_train=True)\n",
    "for a,b in data_iter:\n",
    "    print(a,b)\n",
    "    break"
   ],
   "id": "fb4dd466ab552071",
   "outputs": [
    {
     "name": "stdout",
     "output_type": "stream",
     "text": [
      "tensor([[ 0.0981,  0.7037],\n",
      "        [ 0.6552,  1.1954],\n",
      "        [-0.0461,  0.6498],\n",
      "        [-0.9006,  0.9882],\n",
      "        [-0.3125,  0.4213],\n",
      "        [ 1.9347,  0.7324],\n",
      "        [ 1.6045,  2.1981],\n",
      "        [-0.5703,  0.2207],\n",
      "        [-1.2883, -0.3381],\n",
      "        [-1.3087, -0.5315]]) tensor([[ 2.0053],\n",
      "        [ 1.4241],\n",
      "        [ 1.8909],\n",
      "        [-0.9624],\n",
      "        [ 2.1373],\n",
      "        [ 5.5980],\n",
      "        [-0.0754],\n",
      "        [ 2.3234],\n",
      "        [ 2.7769],\n",
      "        [ 3.3848]])\n"
     ]
    }
   ],
   "execution_count": 62
  },
  {
   "metadata": {
    "ExecuteTime": {
     "end_time": "2024-04-11T12:17:00.251558Z",
     "start_time": "2024-04-11T12:17:00.220560Z"
    }
   },
   "cell_type": "code",
   "source": [
    "from torch import nn\n",
    "net=nn.Sequential(nn.Linear(2,1))\n",
    "net[0].weight.data.normal_(0,0.01)\n",
    "# net[0].bias.data.zero_()\n",
    "net[0].bias.data.fill_(0)\n",
    "\n",
    "# net.parameters()使w和b变为可训练参数"
   ],
   "id": "54ecec6223ba8",
   "outputs": [
    {
     "data": {
      "text/plain": [
       "tensor([0.])"
      ]
     },
     "execution_count": 5,
     "metadata": {},
     "output_type": "execute_result"
    }
   ],
   "execution_count": 5
  },
  {
   "metadata": {
    "ExecuteTime": {
     "end_time": "2024-04-11T12:17:00.267423Z",
     "start_time": "2024-04-11T12:17:00.253556Z"
    }
   },
   "cell_type": "code",
   "source": [
    "loss=nn.MSELoss()#l2-loss\n",
    "optimizer=torch.optim.SGD(net.parameters(),lr=0.03)\n"
   ],
   "id": "11533052ea6ddd49",
   "outputs": [],
   "execution_count": 6
  },
  {
   "metadata": {
    "ExecuteTime": {
     "end_time": "2024-04-11T12:17:00.454687Z",
     "start_time": "2024-04-11T12:17:00.267931Z"
    }
   },
   "cell_type": "code",
   "source": [
    "num_epoch=10\n",
    "for epoch in range(num_epoch):\n",
    "    for X,y in data_iter:\n",
    "        l=loss(net(X),y)\n",
    "        optimizer.zero_grad()#清空梯度\n",
    "        l.backward()\n",
    "        optimizer.step()#更新参数\n",
    "    l=loss(net(features),labels)\n",
    "    print('Epoch %d, Loss: %.4f' % (epoch+1, l))"
   ],
   "id": "f506d48932589dc8",
   "outputs": [
    {
     "name": "stdout",
     "output_type": "stream",
     "text": [
      "Epoch 1, Loss: 0.0005\n",
      "Epoch 2, Loss: 0.0001\n",
      "Epoch 3, Loss: 0.0001\n",
      "Epoch 4, Loss: 0.0001\n",
      "Epoch 5, Loss: 0.0001\n",
      "Epoch 6, Loss: 0.0001\n",
      "Epoch 7, Loss: 0.0001\n",
      "Epoch 8, Loss: 0.0001\n",
      "Epoch 9, Loss: 0.0001\n",
      "Epoch 10, Loss: 0.0001\n"
     ]
    }
   ],
   "execution_count": 7
  },
  {
   "metadata": {
    "ExecuteTime": {
     "end_time": "2024-04-11T12:17:00.469487Z",
     "start_time": "2024-04-11T12:17:00.456036Z"
    }
   },
   "cell_type": "code",
   "source": [
    "w=net[0].weight.data\n",
    "b=net[0].bias.data\n",
    "w,b"
   ],
   "id": "b708868fecef3176",
   "outputs": [
    {
     "data": {
      "text/plain": [
       "(tensor([[ 1.9990, -3.4007]]), tensor([4.1996]))"
      ]
     },
     "execution_count": 8,
     "metadata": {},
     "output_type": "execute_result"
    }
   ],
   "execution_count": 8
  },
  {
   "metadata": {
    "ExecuteTime": {
     "end_time": "2024-04-11T12:45:21.370052Z",
     "start_time": "2024-04-11T12:45:21.353708Z"
    }
   },
   "cell_type": "code",
   "source": [
    "x=torch.tensor([[1,2,3],[4,5,6],[7,8,9],[10,11,12],[13,14,15],[16,17,18],[19,20,21],[22,23,24],[25,26,27],[28,29,30],[31,32,33]])\n",
    "y=torch.tensor([1,2,3,4,5,6,7,8,9,10,11])\n",
    "datas=data.TensorDataset(x,y)\n",
    "\n",
    "datas= data.DataLoader(datas,batch_size=2,shuffle=True)\n",
    "next(iter(datas))"
   ],
   "id": "ef1befed35477496",
   "outputs": [
    {
     "data": {
      "text/plain": [
       "[tensor([[ 4,  5,  6],\n",
       "         [31, 32, 33]]),\n",
       " tensor([ 2, 11])]"
      ]
     },
     "execution_count": 33,
     "metadata": {},
     "output_type": "execute_result"
    }
   ],
   "execution_count": 33
  },
  {
   "metadata": {},
   "cell_type": "code",
   "outputs": [],
   "execution_count": null,
   "source": "",
   "id": "3655ed462a6ebc2e"
  }
 ],
 "metadata": {
  "kernelspec": {
   "display_name": "Python 3",
   "language": "python",
   "name": "python3"
  },
  "language_info": {
   "codemirror_mode": {
    "name": "ipython",
    "version": 2
   },
   "file_extension": ".py",
   "mimetype": "text/x-python",
   "name": "python",
   "nbconvert_exporter": "python",
   "pygments_lexer": "ipython2",
   "version": "2.7.6"
  }
 },
 "nbformat": 4,
 "nbformat_minor": 5
}
