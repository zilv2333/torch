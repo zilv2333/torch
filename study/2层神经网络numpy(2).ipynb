{
 "cells": [
  {
   "cell_type": "code",
   "id": "initial_id",
   "metadata": {
    "ExecuteTime": {
     "end_time": "2024-04-16T13:10:58.100074Z",
     "start_time": "2024-04-16T13:10:58.008855Z"
    }
   },
   "source": [
    "import numpy as np"
   ],
   "outputs": [],
   "execution_count": 2
  },
  {
   "cell_type": "code",
   "id": "8475b4a9b4b454ec",
   "metadata": {
    "ExecuteTime": {
     "end_time": "2024-04-16T14:33:50.673950Z",
     "start_time": "2024-04-16T14:33:50.659975Z"
    }
   },
   "source": [
    "def data_iter(x, y, batch_size):\n",
    "    num=len(x)\n",
    "    indices=list(range(num))\n",
    "    np.random.shuffle(indices)\n",
    "    for i in range(0,num,batch_size):\n",
    "        batch_indices=np.array(indices[i:i+batch_size])\n",
    "        yield x[batch_indices],y[batch_indices]\n",
    "\n",
    "def relu(x):\n",
    "    return np.maximum(x,0)\n",
    "def sigmoid(x):\n",
    "    return 1/(1+np.exp(-x))\n",
    "def MSE(y1,y2):\n",
    "    return np.sum((y1-y2)**2)\n",
    "def softmax(x):\n",
    "    m=np.exp(x-np.max(x,axis=1).reshape(x.shape[0],1))\n",
    "    return m/m.sum(axis=1).reshape(m.shape[0],1)\n",
    "def ce_softmaxloss(y1,y2):\n",
    "    \n",
    "    return -(y2*np.log(y1)).sum(axis=1).reshape(-1,1)\n",
    "\n"
   ],
   "outputs": [],
   "execution_count": 140
  },
  {
   "cell_type": "code",
   "id": "f969ebdba8e58dbd",
   "metadata": {
    "ExecuteTime": {
     "end_time": "2024-04-16T13:11:03.767677Z",
     "start_time": "2024-04-16T13:11:03.752073Z"
    }
   },
   "source": [
    "true_w1=np.array([[2,4,3,4],[4,5,6,5],[6,7,8,9]])\n",
    "true_w2=np.array([[2,4,3,4]]).reshape(4,1)\n",
    "true_b1=np.array([[3,4,5,6]])\n",
    "true_b2=np.array([2])\n",
    "\n",
    "x=np.array([[1,2,3],[1,2,3],[1,2,3],[1,2,3],[1,2,3],[1,2,3]])\n",
    "y=x@true_w1+true_b1\n",
    "y=relu(y)\n",
    "y=y@true_w2+true_b2\n",
    "y"
   ],
   "outputs": [
    {
     "data": {
      "text/plain": [
       "array([[540],\n",
       "       [540],\n",
       "       [540],\n",
       "       [540],\n",
       "       [540],\n",
       "       [540]])"
      ]
     },
     "execution_count": 4,
     "metadata": {},
     "output_type": "execute_result"
    }
   ],
   "execution_count": 4
  },
  {
   "cell_type": "code",
   "id": "e681948e20e631ae",
   "metadata": {
    "ExecuteTime": {
     "end_time": "2024-04-16T14:17:20.870815Z",
     "start_time": "2024-04-16T14:17:20.850546Z"
    }
   },
   "source": [
    "class net_2:\n",
    "    def __init__(self, inputs, outputs, num_1,batch_size=1 , loss_fun='MSE', activate='relu'):\n",
    "        self.dloss_b1 = None\n",
    "        self.dloss_w1 = None\n",
    "        self.dloss_b2 = None\n",
    "        self.dloss_w2 = None\n",
    "\n",
    "        self.H2 = None\n",
    "        self.H1 = None\n",
    "        self.y_hat=None\n",
    "        self.batch_size =batch_size\n",
    "        \n",
    "        self.inputs=inputs\n",
    "        self.outputs=outputs\n",
    "        self.num_1=num_1\n",
    "        self.loss=loss_fun\n",
    "        self.activate=activate\n",
    "\n",
    "        \n",
    "        self.w1=np.random.normal(0,0.01,(inputs,num_1))\n",
    "        self.b1=np.zeros((1,num_1))\n",
    "        self.w2=np.random.normal(0,0.01,(num_1,outputs))\n",
    "        self.b2=np.zeros((1,outputs))\n",
    "\n",
    "        self.weights=(self.w1,self.w2)\n",
    "        self.bias=(self.b1,self.b2)\n",
    "    def forward(self, x_datas):\n",
    "\n",
    "        self.H1= x_datas @ self.w1 + self.b1\n",
    "        if self.activate=='relu':\n",
    "            self.H2=relu(self.H1)\n",
    "        elif self.activate=='sigmoid':\n",
    "            self.H2=sigmoid(self.H1)\n",
    "        self.y_hat=self.H2@self.w2+self.b2\n",
    "        if self.loss=='ce_softmaxloss':\n",
    "            self.y_hat=softmax(self.y_hat)\n",
    "        \n",
    "        \n",
    "        return self.y_hat\n",
    "\n",
    "    def backward(self, x_datas, y_datas):\n",
    "        dloss_y=1\n",
    "        if self.loss=='MSE':\n",
    "            dloss_y=2*(self.y_hat - y_datas)\n",
    "        elif self.loss=='ce_softmaxloss':\n",
    "            dloss_y=self.y_hat-y_datas\n",
    "        self.dloss_w2=np.dot(self.H2.T,dloss_y)/(self.y_hat.shape[0]*self.y_hat.shape[1])\n",
    "        self.dloss_b2=dloss_y.sum(axis=0)/(self.y_hat.shape[0]*self.y_hat.shape[1])\n",
    "        \n",
    "        dloss_H2=np.dot(dloss_y,self.w2.T)\n",
    "        dH2_H1=np.zeros(dloss_H2.shape)\n",
    "        if self.activate=='relu':\n",
    "            dH2_H1[self.H2>0]=1\n",
    "        elif self.activate=='sigmoid':\n",
    "            dH2_H1=sigmoid(self.H1)*(1-sigmoid(self.H1))\n",
    "        dloss_H1=dloss_H2*dH2_H1\n",
    "        self.dloss_w1= np.dot(x_datas.T, dloss_H1) / (self.y_hat.shape[0] * self.y_hat.shape[1])\n",
    "        self.dloss_b1=dloss_H1.sum(axis=0)/(self.y_hat.shape[0]*self.y_hat.shape[1])\n",
    "        return self.dloss_w1,self.dloss_b1,self.dloss_w2,self.dloss_b2\n",
    "    \n",
    "    def updater(self,lr=0.1):\n",
    "        #update\n",
    "\n",
    "        self.w1-=lr*self.dloss_w1/self.batch_size\n",
    "        self.b1-=lr*self.dloss_b1/self.batch_size\n",
    "        self.w2-=lr*self.dloss_w2/self.batch_size\n",
    "        self.b2-=lr*self.dloss_b2/self.batch_size\n",
    "    def predict(self,x_datas):\n",
    "        return self.forward(x_datas)\n",
    "\n",
    "\n",
    "    \n",
    "        "
   ],
   "outputs": [],
   "execution_count": 126
  },
  {
   "cell_type": "code",
   "id": "5c5ccd3c-9834-4036-bf52-79890eee451b",
   "metadata": {
    "ExecuteTime": {
     "end_time": "2024-04-16T14:17:21.888911Z",
     "start_time": "2024-04-16T14:17:21.874511Z"
    }
   },
   "source": [
    "def y_one_hot(y_in,num):\n",
    "    \n",
    "    y=np.zeros((y_in.shape[0],num))\n",
    "    for i in range(y_in.shape[0]):\n",
    "        arr=np.zeros(num)\n",
    "        arr[y_in[i]]=1\n",
    "        y[i]=arr\n",
    "    return y"
   ],
   "outputs": [],
   "execution_count": 127
  },
  {
   "cell_type": "code",
   "id": "a5129767-2242-4e2c-bc77-cfe152b3e7ee",
   "metadata": {
    "ExecuteTime": {
     "end_time": "2024-04-16T14:17:22.738510Z",
     "start_time": "2024-04-16T14:17:22.547284Z"
    }
   },
   "source": [
    "pat1='mnist.npz'\n",
    "path2='E:\\pytorch\\data\\MNIST\\mnist.npz'\n",
    "f=np.load(path2)\n",
    "x_train,y_train=f['x_train'],f['y_train']\n",
    "x_test,y_test=f['x_test'],f['y_test']\n",
    "f.close()\n",
    "y_train=y_one_hot(y_train,10)\n",
    "y_test=y_one_hot(y_test,10)"
   ],
   "outputs": [],
   "execution_count": 128
  },
  {
   "cell_type": "code",
   "id": "010f7f11-eb4f-4415-b4af-109e7fb37d85",
   "metadata": {
    "ExecuteTime": {
     "end_time": "2024-04-16T14:17:23.882858Z",
     "start_time": "2024-04-16T14:17:23.788345Z"
    }
   },
   "source": [
    "import matplotlib.pyplot as plt\n",
    "plt.imshow(x_train[0])"
   ],
   "outputs": [
    {
     "data": {
      "text/plain": [
       "<matplotlib.image.AxesImage at 0x25654176bb0>"
      ]
     },
     "execution_count": 129,
     "metadata": {},
     "output_type": "execute_result"
    },
    {
     "data": {
      "text/plain": [
       "<Figure size 640x480 with 1 Axes>"
      ],
      "image/png": "[encoded data removed]"
     },
     "metadata": {},
     "output_type": "display_data"
    }
   ],
   "execution_count": 129
  },
  {
   "cell_type": "code",
   "id": "6619f5c2-6dfe-41be-89fd-0fb71a676e41",
   "metadata": {
    "ExecuteTime": {
     "end_time": "2024-04-16T14:17:25.122890Z",
     "start_time": "2024-04-16T14:17:25.105202Z"
    }
   },
   "source": [
    "x_train=x_train.reshape(x_train.shape[0],-1)"
   ],
   "outputs": [],
   "execution_count": 130
  },
  {
   "cell_type": "code",
   "id": "a5dc7745-5d51-4d04-84ae-bcfdee6321d0",
   "metadata": {
    "ExecuteTime": {
     "end_time": "2024-04-16T14:17:26.422022Z",
     "start_time": "2024-04-16T14:17:26.406987Z"
    }
   },
   "source": [
    "y_train.shape,x_train.shape"
   ],
   "outputs": [
    {
     "data": {
      "text/plain": [
       "((60000, 10), (60000, 784))"
      ]
     },
     "execution_count": 131,
     "metadata": {},
     "output_type": "execute_result"
    }
   ],
   "execution_count": 131
  },
  {
   "cell_type": "code",
   "id": "6f116531-a8f4-43eb-bae9-f69b70f47737",
   "metadata": {
    "ExecuteTime": {
     "end_time": "2024-04-16T14:17:27.770514Z",
     "start_time": "2024-04-16T14:17:27.755820Z"
    }
   },
   "source": "",
   "outputs": [],
   "execution_count": 132
  },
  {
   "metadata": {
    "ExecuteTime": {
     "end_time": "2024-04-16T13:51:51.920412Z",
     "start_time": "2024-04-16T13:51:50.669045Z"
    }
   },
   "cell_type": "code",
   "source": [
    "import torch\n",
    "import torch.nn as nn\n",
    "loss=nn.CrossEntropyLoss()"
   ],
   "id": "5f5ff45134cf2b13",
   "outputs": [],
   "execution_count": 92
  },
  {
   "cell_type": "code",
   "id": "feb5fd77-f56b-45ad-ad87-70028e7a0c91",
   "metadata": {
    "ExecuteTime": {
     "end_time": "2024-04-16T14:17:30.955369Z",
     "start_time": "2024-04-16T14:17:30.941594Z"
    }
   },
   "source": [
    "def data_iter_my(x, y, batch_size):\n",
    "    num=len(x)\n",
    "    indices=list(range(num))\n",
    "    np.random.shuffle(indices)\n",
    "    for i in range(0,num,batch_size):\n",
    "        batch_indices=np.array(indices[i:i+batch_size])\n",
    "        yield x[batch_indices],y[batch_indices]\n"
   ],
   "outputs": [],
   "execution_count": 133
  },
  {
   "cell_type": "code",
   "id": "b6fa5550-3b3d-4a8f-93de-b7295e7555fb",
   "metadata": {
    "ExecuteTime": {
     "end_time": "2024-04-16T14:40:38.164307Z",
     "start_time": "2024-04-16T14:37:41.601496Z"
    }
   },
   "source": [
    "epoch=50\n",
    "batch_size=256\n",
    "mnist=net_2(28*28,10,500,batch_size=batch_size,loss_fun='ce_softmaxloss',activate='relu')\n",
    "for i in range(epoch):\n",
    "    error1=0\n",
    "\n",
    "    data=data_iter_my(x_train, y_train, batch_size=batch_size)\n",
    "    for X,y in data:\n",
    "        a=mnist.forward(X)\n",
    "        mnist.backward(X,y)\n",
    "        mnist.updater(0.1)\n",
    "        error1+=ce_softmaxloss(a,y).sum()\n",
    "        #算法差异和torch算的误差有出入，下降成功实现\n",
    "    print(i,error1/x_train.shape[0])\n",
    "\n"
   ],
   "outputs": [
    {
     "name": "stdout",
     "output_type": "stream",
     "text": [
      "0 1.3231472660734331\n",
      "0 tensor(1.9027, dtype=torch.float64)\n",
      "1 0.5934908572021874\n",
      "1 tensor(1.7074, dtype=torch.float64)\n",
      "2 0.4770632984662166\n",
      "2 tensor(1.6626, dtype=torch.float64)\n",
      "3 0.41901047154179855\n",
      "3 tensor(1.6397, dtype=torch.float64)\n",
      "4 0.38225053752416527\n",
      "4 tensor(1.6254, dtype=torch.float64)\n",
      "5 0.35571770291194177\n",
      "5 tensor(1.6148, dtype=torch.float64)\n",
      "6 0.3354427075693913\n",
      "6 tensor(1.6072, dtype=torch.float64)\n",
      "7 0.31910157892112756\n",
      "7 tensor(1.6009, dtype=torch.float64)\n",
      "8 0.3053129828656157\n",
      "8 tensor(1.5959, dtype=torch.float64)\n",
      "9 0.2934796780261991\n",
      "9 tensor(1.5912, dtype=torch.float64)\n",
      "10 0.2831038725699475\n",
      "10 tensor(1.5874, dtype=torch.float64)\n",
      "11 0.27409771820552853\n",
      "11 tensor(1.5840, dtype=torch.float64)\n",
      "12 0.2657987497046004\n",
      "12 tensor(1.5810, dtype=torch.float64)\n",
      "13 0.25841044349878417\n",
      "13 tensor(1.5783, dtype=torch.float64)\n",
      "14 0.25158704800969\n",
      "14 tensor(1.5757, dtype=torch.float64)\n",
      "15 0.24544947684192384\n",
      "15 tensor(1.5734, dtype=torch.float64)\n",
      "16 0.23957750860477547\n",
      "16 tensor(1.5713, dtype=torch.float64)\n",
      "17 0.23425712763291842\n",
      "17 tensor(1.5693, dtype=torch.float64)\n",
      "18 0.22922116757373923\n",
      "18 tensor(1.5674, dtype=torch.float64)\n",
      "19 0.22455092050878872\n",
      "19 tensor(1.5657, dtype=torch.float64)\n",
      "20 0.22003857303756286\n",
      "20 tensor(1.5641, dtype=torch.float64)\n",
      "21 0.21584495739452395\n",
      "21 tensor(1.5625, dtype=torch.float64)\n",
      "22 0.21187245960841242\n",
      "22 tensor(1.5610, dtype=torch.float64)\n",
      "23 0.20809644696238577\n",
      "23 tensor(1.5596, dtype=torch.float64)\n",
      "24 0.20455668297183074\n",
      "24 tensor(1.5583, dtype=torch.float64)\n",
      "25 0.2011411247060834\n",
      "25 tensor(1.5571, dtype=torch.float64)\n",
      "26 0.19791762610069458\n",
      "26 tensor(1.5557, dtype=torch.float64)\n",
      "27 0.1947843336760303\n",
      "27 tensor(1.5545, dtype=torch.float64)\n",
      "28 0.19172166869075014\n",
      "28 tensor(1.5535, dtype=torch.float64)\n",
      "29 0.18887501298888568\n",
      "29 tensor(1.5524, dtype=torch.float64)\n",
      "30 0.18613543087371148\n",
      "30 tensor(1.5513, dtype=torch.float64)\n",
      "31 0.18346752154028545\n",
      "31 tensor(1.5502, dtype=torch.float64)\n",
      "32 0.1807868319315986\n",
      "32 tensor(1.5494, dtype=torch.float64)\n",
      "33 0.1784510223153498\n",
      "33 tensor(1.5483, dtype=torch.float64)\n",
      "34 0.1760318860087849\n",
      "34 tensor(1.5476, dtype=torch.float64)\n",
      "35 0.1738069785685761\n",
      "35 tensor(1.5465, dtype=torch.float64)\n",
      "36 0.1715328650709491\n",
      "36 tensor(1.5458, dtype=torch.float64)\n",
      "37 0.16935174872514921\n",
      "37 tensor(1.5448, dtype=torch.float64)\n",
      "38 0.16729624601165588\n",
      "38 tensor(1.5440, dtype=torch.float64)\n",
      "39 0.1651727085705897\n",
      "39 tensor(1.5432, dtype=torch.float64)\n",
      "40 0.1632561995820841\n",
      "40 tensor(1.5426, dtype=torch.float64)\n",
      "41 0.16143846768667958\n",
      "41 tensor(1.5418, dtype=torch.float64)\n",
      "42 0.159511581825574\n",
      "42 tensor(1.5410, dtype=torch.float64)\n",
      "43 0.15771521672642505\n",
      "43 tensor(1.5405, dtype=torch.float64)\n",
      "44 0.15592321232173323\n",
      "44 tensor(1.5396, dtype=torch.float64)\n",
      "45 0.154223651553451\n",
      "45 tensor(1.5391, dtype=torch.float64)\n",
      "46 0.15255860732919221\n",
      "46 tensor(1.5383, dtype=torch.float64)\n",
      "47 0.1509302766540189\n",
      "47 tensor(1.5377, dtype=torch.float64)\n",
      "48 0.14934564686559634\n",
      "48 tensor(1.5372, dtype=torch.float64)\n",
      "49 0.1477626708012798\n",
      "49 tensor(1.5365, dtype=torch.float64)\n"
     ]
    }
   ],
   "execution_count": 145
  },
  {
   "metadata": {},
   "cell_type": "code",
   "outputs": [],
   "execution_count": null,
   "source": "",
   "id": "13e84ccfd1b1641c"
  },
  {
   "cell_type": "code",
   "id": "da124844-b558-4946-8e7c-0607923c94a1",
   "metadata": {
    "ExecuteTime": {
     "end_time": "2024-04-16T14:37:33.919667Z",
     "start_time": "2024-04-16T14:37:33.906086Z"
    }
   },
   "source": "mnist.predict(x_train[0].reshape(1,28*28))",
   "outputs": [
    {
     "data": {
      "text/plain": [
       "array([[9.18179655e-07, 8.00112673e-06, 8.41004707e-04, 1.87094580e-01,\n",
       "        6.40946082e-09, 8.11972034e-01, 8.05154579e-08, 6.60582220e-05,\n",
       "        6.18604646e-06, 1.11300849e-05]])"
      ]
     },
     "execution_count": 144,
     "metadata": {},
     "output_type": "execute_result"
    }
   ],
   "execution_count": 144
  }
 ],
 "metadata": {
  "kernelspec": {
   "display_name": "Python 3 (ipykernel)",
   "language": "python",
   "name": "python3"
  },
  "language_info": {
   "codemirror_mode": {
    "name": "ipython",
    "version": 3
   },
   "file_extension": ".py",
   "mimetype": "text/x-python",
   "name": "python",
   "nbconvert_exporter": "python",
   "pygments_lexer": "ipython3",
   "version": "3.11.0"
  }
 },
 "nbformat": 4,
 "nbformat_minor": 5
}
