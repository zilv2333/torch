{
 "cells": [
  {
   "cell_type": "code",
   "id": "initial_id",
   "metadata": {
    "collapsed": true,
    "ExecuteTime": {
     "end_time": "2024-05-17T17:03:32.309972Z",
     "start_time": "2024-05-17T17:03:27.619655Z"
    }
   },
   "source": [
    "import  torch\n",
    "import torch.nn as nn\n",
    "from torch import device\n",
    "\n",
    "torch.device('cpu'),torch.device('cuda'),torch.device('cuda:1')"
   ],
   "outputs": [
    {
     "data": {
      "text/plain": [
       "(device(type='cpu'), device(type='cuda'), device(type='cuda', index=1))"
      ]
     },
     "execution_count": 1,
     "metadata": {},
     "output_type": "execute_result"
    }
   ],
   "execution_count": 1
  },
  {
   "metadata": {
    "ExecuteTime": {
     "end_time": "2024-05-17T17:03:52.598429Z",
     "start_time": "2024-05-17T17:03:52.527124Z"
    }
   },
   "cell_type": "code",
   "source": "torch.cuda.device_count()",
   "id": "6dc267a587f1e46d",
   "outputs": [
    {
     "data": {
      "text/plain": [
       "1"
      ]
     },
     "execution_count": 2,
     "metadata": {},
     "output_type": "execute_result"
    }
   ],
   "execution_count": 2
  },
  {
   "metadata": {
    "ExecuteTime": {
     "end_time": "2024-05-17T17:04:42.156747Z",
     "start_time": "2024-05-17T17:04:42.136597Z"
    }
   },
   "cell_type": "code",
   "source": [
    "x=torch.randn(2,3,4,5)\n",
    "x.device"
   ],
   "id": "6af4366ff3f881fe",
   "outputs": [
    {
     "data": {
      "text/plain": [
       "device(type='cpu')"
      ]
     },
     "execution_count": 3,
     "metadata": {},
     "output_type": "execute_result"
    }
   ],
   "execution_count": 3
  },
  {
   "metadata": {
    "ExecuteTime": {
     "end_time": "2024-05-17T17:06:13.889185Z",
     "start_time": "2024-05-17T17:06:13.874603Z"
    }
   },
   "cell_type": "code",
   "source": [
    "def try_gpu(i=0):\n",
    "    if torch.cuda.device_count()>=i+1:\n",
    "        return torch.device('cuda:'+str(i))\n",
    "    return torch.device('cpu')"
   ],
   "id": "c226e66c88b76bcc",
   "outputs": [],
   "execution_count": 4
  },
  {
   "metadata": {
    "ExecuteTime": {
     "end_time": "2024-05-17T17:08:47.836998Z",
     "start_time": "2024-05-17T17:08:47.825305Z"
    }
   },
   "cell_type": "code",
   "source": [
    "x=torch.randn(4,5,device=try_gpu(0))\n",
    "x"
   ],
   "id": "27958652ca361da0",
   "outputs": [
    {
     "data": {
      "text/plain": [
       "tensor([[-0.2047,  1.1418, -1.2938,  0.8409, -0.6457],\n",
       "        [ 1.2418,  1.4857,  0.0221, -0.0411, -0.2409],\n",
       "        [ 0.2855, -0.0560,  0.3893, -0.7880, -0.3773],\n",
       "        [-0.7558,  1.5878, -0.7472,  1.1893,  0.3247]], device='cuda:0')"
      ]
     },
     "execution_count": 11,
     "metadata": {},
     "output_type": "execute_result"
    }
   ],
   "execution_count": 11
  },
  {
   "metadata": {
    "ExecuteTime": {
     "end_time": "2024-05-17T17:09:13.584820Z",
     "start_time": "2024-05-17T17:09:12.331755Z"
    }
   },
   "cell_type": "code",
   "source": [
    "net=nn.Sequential(nn.Linear(5,2),nn.Linear(2,1))  \n",
    "net=net.to(device=try_gpu(0))\n",
    "net(x)"
   ],
   "id": "63e172f2c544f17c",
   "outputs": [
    {
     "data": {
      "text/plain": [
       "tensor([[0.4576],\n",
       "        [0.2305],\n",
       "        [0.2261],\n",
       "        [0.1777]], device='cuda:0', grad_fn=<AddmmBackward0>)"
      ]
     },
     "execution_count": 12,
     "metadata": {},
     "output_type": "execute_result"
    }
   ],
   "execution_count": 12
  }
 ],
 "metadata": {
  "kernelspec": {
   "display_name": "Python 3",
   "language": "python",
   "name": "python3"
  },
  "language_info": {
   "codemirror_mode": {
    "name": "ipython",
    "version": 2
   },
   "file_extension": ".py",
   "mimetype": "text/x-python",
   "name": "python",
   "nbconvert_exporter": "python",
   "pygments_lexer": "ipython2",
   "version": "2.7.6"
  }
 },
 "nbformat": 4,
 "nbformat_minor": 5
}
