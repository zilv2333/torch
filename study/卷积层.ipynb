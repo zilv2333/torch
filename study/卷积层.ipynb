{
 "cells": [
  {
   "cell_type": "code",
   "id": "initial_id",
   "metadata": {
    "collapsed": true,
    "ExecuteTime": {
     "end_time": "2024-05-19T16:33:30.119295Z",
     "start_time": "2024-05-19T16:33:25.504252Z"
    }
   },
   "source": [
    "import torch\n",
    "import torch.nn as nn\n",
    "\n",
    "from d2l import torch as d2l\n"
   ],
   "outputs": [],
   "execution_count": 1
  },
  {
   "metadata": {
    "ExecuteTime": {
     "end_time": "2024-05-22T10:46:55.251788Z",
     "start_time": "2024-05-22T10:46:54.879228Z"
    }
   },
   "cell_type": "code",
   "source": [
    "def conv2d(X,k):\n",
    "    h,w = k.shape\n",
    "    y=torch.zeros((X.shape[0]-h+1,X.shape[1]-w+1))\n",
    "    for i in range(y.shape[0]):\n",
    "        for j in range(y.shape[1]):\n",
    "            y[i,j]=(X[i:i+h,j:j+w]*k).sum()\n",
    "    return y\n",
    "X=torch.tensor([[0,1,2],[3,4,5],[6,7,8]],dtype=torch.float32)\n",
    "k=torch.tensor([[0,1],[2,3]], dtype=torch.float32)\n",
    "conv2d(X,k)"
   ],
   "id": "bfbe5882c23e2e3d",
   "outputs": [
    {
     "ename": "NameError",
     "evalue": "name 'torch' is not defined",
     "output_type": "error",
     "traceback": [
      "\u001B[1;31m---------------------------------------------------------------------------\u001B[0m",
      "\u001B[1;31mNameError\u001B[0m                                 Traceback (most recent call last)",
      "Cell \u001B[1;32mIn[1], line 8\u001B[0m\n\u001B[0;32m      6\u001B[0m             y[i,j]\u001B[38;5;241m=\u001B[39m(X[i:i\u001B[38;5;241m+\u001B[39mh,j:j\u001B[38;5;241m+\u001B[39mw]\u001B[38;5;241m*\u001B[39mk)\u001B[38;5;241m.\u001B[39msum()\n\u001B[0;32m      7\u001B[0m     \u001B[38;5;28;01mreturn\u001B[39;00m y\n\u001B[1;32m----> 8\u001B[0m X\u001B[38;5;241m=\u001B[39m\u001B[43mtorch\u001B[49m\u001B[38;5;241m.\u001B[39mtensor([[\u001B[38;5;241m0\u001B[39m,\u001B[38;5;241m1\u001B[39m,\u001B[38;5;241m2\u001B[39m],[\u001B[38;5;241m3\u001B[39m,\u001B[38;5;241m4\u001B[39m,\u001B[38;5;241m5\u001B[39m],[\u001B[38;5;241m6\u001B[39m,\u001B[38;5;241m7\u001B[39m,\u001B[38;5;241m8\u001B[39m]],dtype\u001B[38;5;241m=\u001B[39mtorch\u001B[38;5;241m.\u001B[39mfloat32)\n\u001B[0;32m      9\u001B[0m k\u001B[38;5;241m=\u001B[39mtorch\u001B[38;5;241m.\u001B[39mtensor([[\u001B[38;5;241m0\u001B[39m,\u001B[38;5;241m1\u001B[39m],[\u001B[38;5;241m2\u001B[39m,\u001B[38;5;241m3\u001B[39m]], dtype\u001B[38;5;241m=\u001B[39mtorch\u001B[38;5;241m.\u001B[39mfloat32)\n\u001B[0;32m     10\u001B[0m conv2d(X,k)\n",
      "\u001B[1;31mNameError\u001B[0m: name 'torch' is not defined"
     ]
    }
   ],
   "execution_count": 1
  },
  {
   "metadata": {
    "ExecuteTime": {
     "end_time": "2024-05-19T16:50:58.173997Z",
     "start_time": "2024-05-19T16:50:58.164644Z"
    }
   },
   "cell_type": "code",
   "source": "",
   "id": "2b9bf63e9362ea7b",
   "outputs": [
    {
     "data": {
      "text/plain": [
       "torch.Size([2, 2])"
      ]
     },
     "execution_count": 29,
     "metadata": {},
     "output_type": "execute_result"
    }
   ],
   "execution_count": 29
  },
  {
   "metadata": {
    "ExecuteTime": {
     "end_time": "2024-05-19T16:56:40.401914Z",
     "start_time": "2024-05-19T16:56:40.372890Z"
    }
   },
   "cell_type": "code",
   "source": "nn.functional.conv2d(X.unsqueeze(0).unsqueeze(0),k.unsqueeze(0).unsqueeze(0)) \n",
   "id": "f846e37d27361e5a",
   "outputs": [
    {
     "data": {
      "text/plain": [
       "tensor([[[[19., 25.],\n",
       "          [37., 43.]]]])"
      ]
     },
     "execution_count": 36,
     "metadata": {},
     "output_type": "execute_result"
    }
   ],
   "execution_count": 36
  }
 ],
 "metadata": {
  "kernelspec": {
   "display_name": "Python 3",
   "language": "python",
   "name": "python3"
  },
  "language_info": {
   "codemirror_mode": {
    "name": "ipython",
    "version": 2
   },
   "file_extension": ".py",
   "mimetype": "text/x-python",
   "name": "python",
   "nbconvert_exporter": "python",
   "pygments_lexer": "ipython2",
   "version": "2.7.6"
  }
 },
 "nbformat": 4,
 "nbformat_minor": 5
}
