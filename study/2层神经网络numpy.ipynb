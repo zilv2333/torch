{
 "cells": [
  {
   "cell_type": "code",
   "id": "initial_id",
   "metadata": {
    "collapsed": true,
    "ExecuteTime": {
     "end_time": "2024-04-15T15:43:52.961754Z",
     "start_time": "2024-04-15T15:43:52.944703Z"
    }
   },
   "source": "import numpy as np",
   "outputs": [],
   "execution_count": 156
  },
  {
   "metadata": {
    "ExecuteTime": {
     "end_time": "2024-04-15T15:53:49.132794Z",
     "start_time": "2024-04-15T15:53:49.116038Z"
    }
   },
   "cell_type": "code",
   "source": [
    "def data_iter(x, y, batch_size):\n",
    "    num=len(x)\n",
    "    indices=list(range(num))\n",
    "    np.random.shuffle(indices)\n",
    "    for i in range(0,num,batch_size):\n",
    "        batch_indices=np.array(indices[i:i+batch_size])\n",
    "        yield x[batch_indices],y[batch_indices]\n",
    "\n",
    "def relu(x):\n",
    "    return np.maximum(x,0)\n",
    "def sigmoid(x):\n",
    "    return 1/(1+np.exp(-x))\n",
    "def MSE(y1,y2):\n",
    "    return np.sum((y1-y2)**2)/2\n",
    "\n"
   ],
   "id": "8475b4a9b4b454ec",
   "outputs": [],
   "execution_count": 213
  },
  {
   "metadata": {
    "ExecuteTime": {
     "end_time": "2024-04-15T15:43:52.992466Z",
     "start_time": "2024-04-15T15:43:52.977873Z"
    }
   },
   "cell_type": "code",
   "source": [
    "import torch\n",
    "w=torch.tensor([[3],[2],[4.0]],dtype=torch.float,requires_grad=True)\n",
    "x=torch.tensor([[1,2,3],[4,5,6]], dtype=torch.float,requires_grad=True)\n"
   ],
   "id": "b085f6653a62c6e4",
   "outputs": [],
   "execution_count": 158
  },
  {
   "metadata": {
    "ExecuteTime": {
     "end_time": "2024-04-15T15:43:53.008897Z",
     "start_time": "2024-04-15T15:43:53.001109Z"
    }
   },
   "cell_type": "code",
   "source": [
    "h=x@w\n",
    "h.sum().backward()\n",
    "\n",
    "w.grad,x,h,w\n"
   ],
   "id": "b52fc2b4ee51f478",
   "outputs": [
    {
     "data": {
      "text/plain": [
       "(tensor([[5.],\n",
       "         [7.],\n",
       "         [9.]]),\n",
       " tensor([[1., 2., 3.],\n",
       "         [4., 5., 6.]], requires_grad=True),\n",
       " tensor([[19.],\n",
       "         [46.]], grad_fn=<MmBackward0>),\n",
       " tensor([[3.],\n",
       "         [2.],\n",
       "         [4.]], requires_grad=True))"
      ]
     },
     "execution_count": 159,
     "metadata": {},
     "output_type": "execute_result"
    }
   ],
   "execution_count": 159
  },
  {
   "metadata": {
    "ExecuteTime": {
     "end_time": "2024-04-15T16:44:42.434590Z",
     "start_time": "2024-04-15T16:44:42.429246Z"
    }
   },
   "cell_type": "code",
   "source": [
    "true_w1=np.array([[2,4,3,4],[4,5,6,5],[6,7,8,9]])\n",
    "true_w2=np.array([[2,4,3,4]]).reshape(4,1)\n",
    "true_b1=np.array([[3,4,5,6]])\n",
    "true_b2=np.array([2])\n",
    "\n",
    "x=np.array([[1,2,3],[4,5,6],[7,8,9],[10,11,12],[13,14,15]])\n",
    "y=x@true_w1+true_b1\n",
    "y=relu(y)\n",
    "y=y@true_w2+true_b2\n",
    "y"
   ],
   "id": "f969ebdba8e58dbd",
   "outputs": [
    {
     "data": {
      "text/plain": [
       "array([[ 540],\n",
       "       [1173],\n",
       "       [1806],\n",
       "       [2439],\n",
       "       [3072]])"
      ]
     },
     "execution_count": 350,
     "metadata": {},
     "output_type": "execute_result"
    }
   ],
   "execution_count": 350
  },
  {
   "metadata": {
    "ExecuteTime": {
     "end_time": "2024-04-15T15:43:53.040088Z",
     "start_time": "2024-04-15T15:43:53.025421Z"
    }
   },
   "cell_type": "code",
   "source": "",
   "id": "36688e4457310a1b",
   "outputs": [],
   "execution_count": 160
  },
  {
   "metadata": {
    "ExecuteTime": {
     "end_time": "2024-04-15T15:43:53.056117Z",
     "start_time": "2024-04-15T15:43:53.041104Z"
    }
   },
   "cell_type": "code",
   "source": "",
   "id": "622e22f5aafb8448",
   "outputs": [],
   "execution_count": 160
  },
  {
   "metadata": {
    "ExecuteTime": {
     "end_time": "2024-04-15T15:43:53.071874Z",
     "start_time": "2024-04-15T15:43:53.059115Z"
    }
   },
   "cell_type": "code",
   "source": "",
   "id": "346fb50b7ce82823",
   "outputs": [],
   "execution_count": 160
  },
  {
   "metadata": {
    "ExecuteTime": {
     "end_time": "2024-04-15T15:43:53.087375Z",
     "start_time": "2024-04-15T15:43:53.072869Z"
    }
   },
   "cell_type": "code",
   "source": "",
   "id": "7f2cdcd4442f12e3",
   "outputs": [],
   "execution_count": 160
  },
  {
   "metadata": {
    "ExecuteTime": {
     "end_time": "2024-04-15T16:45:11.114564Z",
     "start_time": "2024-04-15T16:45:11.106423Z"
    }
   },
   "cell_type": "code",
   "source": [
    "from torch import nn\n",
    "net=nn.Sequential(nn.Linear(3,4),nn.Sigmoid(),nn.Linear(4,1))\n",
    "net.zero_grad()\n",
    "net[0].weight.data.normal_(0,0.01)\n",
    "# net[0].bias.data.zero_()\n",
    "net[0].bias.data.fill_(0)\n",
    "net[2].weight.data.normal_(0,0.01)\n",
    "net[2].bias.data.fill_(0)\n",
    "\n",
    "# net[2].weght,net[2].bias=nn.Parameter(w2_tensor,requires_grad=True),nn.Parameter(b2_tensor,requires_grad=True)\n",
    "x_data=torch.tensor(x,dtype=torch.float)\n",
    "\n",
    "\n",
    "y_data=torch.tensor(y,dtype=torch.float)\n",
    "\n",
    "loss=nn.MSELoss()(net(x_data),y_data)\n",
    "loss.backward(torch.ones_like(loss))\n",
    "net(x_data)"
   ],
   "id": "93b861afb236f9ae",
   "outputs": [
    {
     "data": {
      "text/plain": [
       "tensor([[-0.0234],\n",
       "        [-0.0235],\n",
       "        [-0.0235],\n",
       "        [-0.0235],\n",
       "        [-0.0235]], grad_fn=<AddmmBackward0>)"
      ]
     },
     "execution_count": 351,
     "metadata": {},
     "output_type": "execute_result"
    }
   ],
   "execution_count": 351
  },
  {
   "metadata": {
    "ExecuteTime": {
     "end_time": "2024-04-15T16:45:14.419077Z",
     "start_time": "2024-04-15T16:45:14.404067Z"
    }
   },
   "cell_type": "code",
   "source": "",
   "id": "b1ccdc3534c845d2",
   "outputs": [],
   "execution_count": 351
  },
  {
   "metadata": {
    "ExecuteTime": {
     "end_time": "2024-04-15T16:45:15.270199Z",
     "start_time": "2024-04-15T16:45:15.261577Z"
    }
   },
   "cell_type": "code",
   "source": [
    "w1=net[0].weight.detach().numpy().T\n",
    "b1=net[0].bias.detach().numpy()\n",
    "w2=net[2].weight.detach().numpy().T\n",
    "b2=net[2].bias.detach().numpy()\n",
    "def forward(activate):\n",
    "    global H2,H1\n",
    "    global y_hat\n",
    "    H1=x@w1+b1\n",
    "    if activate=='relu':\n",
    "        H2=relu(H1)\n",
    "    elif activate=='sigmoid':\n",
    "        H2=sigmoid(H1)\n",
    "    y_hat=H2@w2+b2\n",
    "    \n",
    "    return y_hat\n",
    "w1,w2"
   ],
   "id": "f5970803e37e5950",
   "outputs": [
    {
     "data": {
      "text/plain": [
       "(array([[ 0.00224926,  0.00796723, -0.00811446,  0.01140718],\n",
       "        [ 0.01547366, -0.00307367, -0.01126522, -0.00485089],\n",
       "        [ 0.00265518, -0.004004  ,  0.00885585,  0.02075562]],\n",
       "       dtype=float32),\n",
       " array([[-0.00797619],\n",
       "        [-0.02229787],\n",
       "        [-0.01568101],\n",
       "        [-0.00084921]], dtype=float32))"
      ]
     },
     "execution_count": 352,
     "metadata": {},
     "output_type": "execute_result"
    }
   ],
   "execution_count": 352
  },
  {
   "metadata": {
    "ExecuteTime": {
     "end_time": "2024-04-15T16:45:16.475068Z",
     "start_time": "2024-04-15T16:45:16.458461Z"
    }
   },
   "cell_type": "code",
   "source": [
    "def grad_cal(activation):\n",
    "    dloss_y=2*(y_hat-y)\n",
    "    dloss_w2=np.dot(H2.T,dloss_y)/(y.shape[0]*y.shape[1])\n",
    "    dloss_b2=dloss_y.sum(axis=0)/(y.shape[0]*y.shape[1])\n",
    "    \n",
    "    dloss_H2=np.dot(dloss_y,w2.T)\n",
    "    dH2_H1=np.zeros(dloss_H2.shape)\n",
    "    if activation=='relu':\n",
    "        dH2_H1[H2>0]=1\n",
    "    elif activation=='sigmoid':\n",
    "        dH2_H1=sigmoid(H1)*(1-sigmoid(H1))\n",
    "    dloss_H1=dloss_H2*dH2_H1\n",
    "    dloss_w1=np.dot(x.T,dloss_H1)/(y.shape[0]*y.shape[1])\n",
    "    dloss_b1=dloss_H1.sum(axis=0)/(y.shape[0]*y.shape[1])\n",
    "    return dloss_w1,dloss_b1,dloss_w2,dloss_b2\n",
    "\n"
   ],
   "id": "e0a42bb29f87fc1f",
   "outputs": [],
   "execution_count": 353
  },
  {
   "metadata": {
    "ExecuteTime": {
     "end_time": "2024-04-15T16:45:17.697468Z",
     "start_time": "2024-04-15T16:45:17.683585Z"
    }
   },
   "cell_type": "code",
   "source": "net[0].weight.grad,net[0].bias.grad,net[2].weight.grad,net[2].bias.grad",
   "id": "6ed7c26725a5ed0e",
   "outputs": [
    {
     "data": {
      "text/plain": [
       "(tensor([[ 64.6035,  71.7202,  78.8370],\n",
       "         [183.2899, 203.4250, 223.5602],\n",
       "         [128.5160, 142.6427, 156.7693],\n",
       "         [  6.7888,   7.5385,   8.2881]]),\n",
       " tensor([ 7.1167, 20.1351, 14.1266,  0.7496]),\n",
       " tensor([[-1991.4038, -1803.3289, -1725.4192, -2061.3118]]),\n",
       " tensor([-3612.0469]))"
      ]
     },
     "execution_count": 354,
     "metadata": {},
     "output_type": "execute_result"
    }
   ],
   "execution_count": 354
  },
  {
   "metadata": {
    "ExecuteTime": {
     "end_time": "2024-04-15T16:45:20.950751Z",
     "start_time": "2024-04-15T16:45:20.931139Z"
    }
   },
   "cell_type": "code",
   "source": [
    "forward(activate='sigmoid')\n",
    "grad_cal('sigmoid')"
   ],
   "id": "80fdb6b283dade96",
   "outputs": [
    {
     "data": {
      "text/plain": [
       "(array([[ 64.60348289, 183.28989828, 128.51601873,   6.7888304 ],\n",
       "        [ 71.72022629, 203.42503646, 142.64264771,   7.53847806],\n",
       "        [ 78.83696968, 223.56017464, 156.7692767 ,   8.28812571]]),\n",
       " array([ 7.1167434 , 20.13513818, 14.12662898,  0.74964766]),\n",
       " array([[-1991.40388268],\n",
       "        [-1803.32884463],\n",
       "        [-1725.41918593],\n",
       "        [-2061.31185416]]),\n",
       " array([-3612.04696871]))"
      ]
     },
     "execution_count": 355,
     "metadata": {},
     "output_type": "execute_result"
    }
   ],
   "execution_count": 355
  },
  {
   "metadata": {
    "ExecuteTime": {
     "end_time": "2024-04-15T16:58:03.115543Z",
     "start_time": "2024-04-15T16:58:03.101117Z"
    }
   },
   "cell_type": "code",
   "source": [
    "class net_2:\n",
    "    def __init__(self, inputs, outputs, num_1,batch_size=1 , loss_fun='MSE', activate='relu'):\n",
    "        self.dloss_b1 = None\n",
    "        self.dloss_w1 = None\n",
    "        self.dloss_b2 = None\n",
    "        self.dloss_w2 = None\n",
    "        self.H2 = None\n",
    "        self.H1 = None\n",
    "        self.y_hat=None\n",
    "        self.batch_size =batch_size\n",
    "        \n",
    "        self.inputs=inputs\n",
    "        self.outputs=outputs\n",
    "        self.num_1=num_1\n",
    "        self.loss=loss_fun\n",
    "        self.activate=activate\n",
    "\n",
    "        \n",
    "        self.w1=np.random.normal(0,0.01,(inputs,num_1))\n",
    "        self.b1=np.zeros((1,num_1))\n",
    "        self.w2=np.random.normal(0,0.01,(num_1,outputs))\n",
    "        self.b2=np.zeros((1,outputs))\n",
    "    @property \n",
    "    def weights(self):\n",
    "        return self.w1,self.w2\n",
    "    @property\n",
    "    def bias(self):\n",
    "        return self.b1,self.b2\n",
    "    def forward(self, x_datas):\n",
    "\n",
    "        self.H1= x_datas @ self.w1 + self.b1\n",
    "        if self.activate=='relu':\n",
    "            self.H2=relu(self.H1)\n",
    "        elif self.activate=='sigmoid':\n",
    "            self.H2=sigmoid(self.H1)\n",
    "        self.y_hat=self.H2@self.w2+self.b2\n",
    "        \n",
    "        return self.y_hat\n",
    "\n",
    "    def backward(self, x_datas, y_datas):\n",
    "        dloss_y=1\n",
    "        if self.loss=='MSE':\n",
    "            dloss_y=2*(self.y_hat - y_datas)\n",
    "        self.dloss_w2=np.dot(self.H2.T,dloss_y)/(self.y_hat.shape[0]*self.y_hat.shape[1])\n",
    "        self.dloss_b2=dloss_y.sum(axis=0)/(self.y_hat.shape[0]*self.y_hat.shape[1])\n",
    "        \n",
    "        dloss_H2=np.dot(dloss_y,self.w2.T)\n",
    "        dH2_H1=np.zeros(dloss_H2.shape)\n",
    "        if self.activate=='relu':\n",
    "            dH2_H1[self.H2>0]=1\n",
    "        elif self.activate=='sigmoid':\n",
    "            dH2_H1=sigmoid(self.H1)*(1-sigmoid(self.H1))\n",
    "        dloss_H1=dloss_H2*dH2_H1\n",
    "        self.dloss_w1= np.dot(x_datas.T, dloss_H1) / (self.y_hat.shape[0] * self.y_hat.shape[1])\n",
    "        self.dloss_b1=dloss_H1.sum(axis=0)/(self.y_hat.shape[0]*self.y_hat.shape[1])\n",
    "        return self.dloss_w1,self.dloss_b1,self.dloss_w2,self.dloss_b2\n",
    "    \n",
    "    def updater(self,lr=0.0001):\n",
    "        #update\n",
    "\n",
    "        self.w1-=lr*self.dloss_w1/self.batch_size\n",
    "        self.b1-=lr*self.dloss_b1/self.batch_size\n",
    "        self.w2-=lr*self.dloss_w2/self.batch_size\n",
    "        self.b2-=lr*self.dloss_b2/self.batch_size\n",
    "net_re=net_2(3,1,4,batch_size=5 ,loss_fun='MSE',activate='relu')\n",
    "\n",
    "for i in range(50):\n",
    "    net_re.forward(x)\n",
    "    net_re.backward(x,y)\n",
    "    net_re.updater()\n",
    "    if i%10==0:\n",
    "        print(net_re.weights)"
   ],
   "id": "e681948e20e631ae",
   "outputs": [
    {
     "name": "stdout",
     "output_type": "stream",
     "text": [
      "(array([[-0.01375758, -0.00131167, -0.01771351, -0.00930163],\n",
      "       [-0.0040747 , -0.00506878,  0.01660477, -0.00912746],\n",
      "       [-0.00593675,  0.00190967, -0.00326815, -0.02148413]]), array([[-0.00463227],\n",
      "       [ 0.00251828],\n",
      "       [-0.01060505],\n",
      "       [-0.00676628]]))\n",
      "(array([[-0.01375758, -0.00131167, -0.01812284, -0.00930163],\n",
      "       [-0.0040747 , -0.00506878,  0.0157861 , -0.00912746],\n",
      "       [-0.00593675,  0.00190967, -0.00449615, -0.02148413]]), array([[-0.00463227],\n",
      "       [ 0.00251828],\n",
      "       [-0.01049196],\n",
      "       [-0.00676628]]))\n",
      "(array([[-0.01375758, -0.00131167, -0.01812284, -0.00930163],\n",
      "       [-0.0040747 , -0.00506878,  0.0157861 , -0.00912746],\n",
      "       [-0.00593675,  0.00190967, -0.00449615, -0.02148413]]), array([[-0.00463227],\n",
      "       [ 0.00251828],\n",
      "       [-0.01049196],\n",
      "       [-0.00676628]]))\n",
      "(array([[-0.01375758, -0.00131167, -0.01812284, -0.00930163],\n",
      "       [-0.0040747 , -0.00506878,  0.0157861 , -0.00912746],\n",
      "       [-0.00593675,  0.00190967, -0.00449615, -0.02148413]]), array([[-0.00463227],\n",
      "       [ 0.00251828],\n",
      "       [-0.01049196],\n",
      "       [-0.00676628]]))\n",
      "(array([[-0.01375758, -0.00131167, -0.01812284, -0.00930163],\n",
      "       [-0.0040747 , -0.00506878,  0.0157861 , -0.00912746],\n",
      "       [-0.00593675,  0.00190967, -0.00449615, -0.02148413]]), array([[-0.00463227],\n",
      "       [ 0.00251828],\n",
      "       [-0.01049196],\n",
      "       [-0.00676628]]))\n"
     ]
    }
   ],
   "execution_count": 394
  },
  {
   "metadata": {
    "ExecuteTime": {
     "end_time": "2024-04-15T16:53:33.322756Z",
     "start_time": "2024-04-15T16:53:33.316750Z"
    }
   },
   "cell_type": "code",
   "source": "true_w1,true_w2",
   "id": "64d1a8faf21bfeae",
   "outputs": [
    {
     "data": {
      "text/plain": [
       "(array([[2, 4, 3, 4],\n",
       "        [4, 5, 6, 5],\n",
       "        [6, 7, 8, 9]]),\n",
       " array([[2],\n",
       "        [4],\n",
       "        [3],\n",
       "        [4]]))"
      ]
     },
     "execution_count": 381,
     "metadata": {},
     "output_type": "execute_result"
    }
   ],
   "execution_count": 381
  }
 ],
 "metadata": {
  "kernelspec": {
   "display_name": "Python 3",
   "language": "python",
   "name": "python3"
  },
  "language_info": {
   "codemirror_mode": {
    "name": "ipython",
    "version": 2
   },
   "file_extension": ".py",
   "mimetype": "text/x-python",
   "name": "python",
   "nbconvert_exporter": "python",
   "pygments_lexer": "ipython2",
   "version": "2.7.6"
  }
 },
 "nbformat": 4,
 "nbformat_minor": 5
}
