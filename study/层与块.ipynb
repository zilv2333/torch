{
 "cells": [
  {
   "cell_type": "code",
   "id": "initial_id",
   "metadata": {
    "collapsed": true,
    "ExecuteTime": {
     "end_time": "2024-05-16T05:45:57.917012Z",
     "start_time": "2024-05-16T05:45:52.510437Z"
    }
   },
   "source": [
    "import torch\n",
    "import torch.nn as nn\n",
    "from torch.nn import functional as F\n",
    "\n"
   ],
   "outputs": [],
   "execution_count": 1
  },
  {
   "metadata": {
    "ExecuteTime": {
     "end_time": "2024-05-16T05:46:53.314060Z",
     "start_time": "2024-05-16T05:46:53.241300Z"
    }
   },
   "cell_type": "code",
   "source": [
    "net=nn.Sequential(nn.Linear(10,5),nn.Linear(5,1))\n",
    "X=torch.randn(10,10)\n",
    "net(X)"
   ],
   "id": "89999e7e0bee834",
   "outputs": [
    {
     "data": {
      "text/plain": [
       "tensor([[ 0.8086],\n",
       "        [ 0.3636],\n",
       "        [ 0.8540],\n",
       "        [ 0.7178],\n",
       "        [ 1.1080],\n",
       "        [ 0.3664],\n",
       "        [ 1.0054],\n",
       "        [-0.0961],\n",
       "        [ 1.0365],\n",
       "        [-0.1411]], grad_fn=<AddmmBackward0>)"
      ]
     },
     "execution_count": 2,
     "metadata": {},
     "output_type": "execute_result"
    }
   ],
   "execution_count": 2
  },
  {
   "metadata": {
    "ExecuteTime": {
     "end_time": "2024-05-16T05:48:43.950950Z",
     "start_time": "2024-05-16T05:48:43.937822Z"
    }
   },
   "cell_type": "code",
   "source": [
    "class MLP(nn.Module):\n",
    "    def __init__(self):\n",
    "        super().__init__()\n",
    "        self.hidden_layer = nn.Linear(10,5)\n",
    "        self.out_layer = nn.Linear(5,1)\n",
    "    def forward(self,x):\n",
    "        return self.out_layer(F.relu(self.hidden_layer(x)))"
   ],
   "id": "b9c0d2ba0138eca6",
   "outputs": [],
   "execution_count": 3
  },
  {
   "metadata": {
    "ExecuteTime": {
     "end_time": "2024-05-16T05:49:21.021740Z",
     "start_time": "2024-05-16T05:49:21.005568Z"
    }
   },
   "cell_type": "code",
   "source": [
    "net=MLP()\n",
    "net(X)"
   ],
   "id": "da738467388babdf",
   "outputs": [
    {
     "data": {
      "text/plain": [
       "tensor([[-0.2070],\n",
       "        [ 0.1892],\n",
       "        [ 0.1386],\n",
       "        [ 0.1326],\n",
       "        [ 0.2374],\n",
       "        [ 0.6384],\n",
       "        [ 0.1958],\n",
       "        [ 0.0986],\n",
       "        [ 0.2600],\n",
       "        [ 0.3934]], grad_fn=<AddmmBackward0>)"
      ]
     },
     "execution_count": 5,
     "metadata": {},
     "output_type": "execute_result"
    }
   ],
   "execution_count": 5
  },
  {
   "metadata": {},
   "cell_type": "code",
   "outputs": [],
   "execution_count": null,
   "source": " ",
   "id": "291ff62b9f226f74"
  }
 ],
 "metadata": {
  "kernelspec": {
   "display_name": "Python 3",
   "language": "python",
   "name": "python3"
  },
  "language_info": {
   "codemirror_mode": {
    "name": "ipython",
    "version": 2
   },
   "file_extension": ".py",
   "mimetype": "text/x-python",
   "name": "python",
   "nbconvert_exporter": "python",
   "pygments_lexer": "ipython2",
   "version": "2.7.6"
  }
 },
 "nbformat": 4,
 "nbformat_minor": 5
}
