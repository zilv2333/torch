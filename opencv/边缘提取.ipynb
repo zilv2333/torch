{
 "cells": [
  {
   "cell_type": "code",
   "id": "initial_id",
   "metadata": {
    "collapsed": true,
    "ExecuteTime": {
     "end_time": "2024-05-25T08:29:06.684987Z",
     "start_time": "2024-05-25T08:29:06.580847Z"
    }
   },
   "source": [
    "import cv2\n",
    "import numpy as np\n",
    "def cv2_show(im):\n",
    "    cv2.namedWindow('image',cv2.WINDOW_NORMAL)\n",
    "    cv2.imshow('image',im)\n",
    "    cv2.waitKey(0)\n",
    "    cv2.destroyAllWindows()\n",
    "def NOISE(IM,mean=0,sigma=1,percent=0.2):\n",
    "    noisenum=int(IM.shape[0]*percent*IM.shape[1])\n",
    "    im=IM\n",
    "    for j in range(noisenum):\n",
    "        \n",
    "        randx=np.random.randint(0,im.shape[0]-1)\n",
    "        randy=np.random.randint(0,im.shape[1]-1)\n",
    "        im[randx,randy,:]=im[randx,randy,:]+np.random.normal(mean,sigma)\n",
    "        for i in range(im.shape[2]):\n",
    "            if im[randx,randy,i]<0:\n",
    "                im[randx,randy,i]=0\n",
    "            if im[randx,randy,i]>255:\n",
    "                im[randx,randy,i]=255\n",
    "    return im.astype(np.uint8)"
   ],
   "outputs": [],
   "execution_count": 1
  },
  {
   "metadata": {},
   "cell_type": "markdown",
   "source": "膨胀减腐蚀（梯度运算）\n",
   "id": "62547a4b8062aa09"
  },
  {
   "metadata": {
    "ExecuteTime": {
     "end_time": "2024-05-25T08:34:48.074947Z",
     "start_time": "2024-05-25T08:34:46.736483Z"
    }
   },
   "cell_type": "code",
   "source": [
    "circle=cv2.imread('../data/video/circle.png')\n",
    "gradient=cv2.morphologyEx(circle,cv2.MORPH_GRADIENT, np.ones((5,5),np.uint8))\n",
    "cv2_show(gradient)"
   ],
   "id": "339dfd2e019ea51b",
   "outputs": [],
   "execution_count": 11
  },
  {
   "metadata": {},
   "cell_type": "markdown",
   "source": "开运算（先腐蚀再膨胀）",
   "id": "f176be44d8a9a4e1"
  },
  {
   "metadata": {
    "ExecuteTime": {
     "end_time": "2024-05-25T08:34:50.178686Z",
     "start_time": "2024-05-25T08:34:49.067247Z"
    }
   },
   "cell_type": "code",
   "source": [
    "sb=cv2.imread('../data/video/SB.png')\n",
    "opening=cv2.morphologyEx(sb,cv2.MORPH_OPEN,np.ones((8,8),np.uint8))\n",
    "hstack=cv2.hconcat([sb,opening])\n",
    "cv2_show(hstack)"
   ],
   "id": "b6d1d122fb8890c3",
   "outputs": [],
   "execution_count": 12
  },
  {
   "metadata": {},
   "cell_type": "markdown",
   "source": "闭运算（先膨胀再腐蚀）",
   "id": "4f2ef4a211cad2fd"
  },
  {
   "metadata": {
    "ExecuteTime": {
     "end_time": "2024-05-25T08:34:52.540497Z",
     "start_time": "2024-05-25T08:34:51.424458Z"
    }
   },
   "cell_type": "code",
   "source": [
    "closing=cv2.morphologyEx(sb,cv2.MORPH_CLOSE,np.ones((8,8),np.uint8))\n",
    "hstack=cv2.hconcat([sb,closing])\n",
    "cv2_show(hstack)"
   ],
   "id": "bf2e5c56f7c3aadf",
   "outputs": [],
   "execution_count": 13
  },
  {
   "metadata": {
    "ExecuteTime": {
     "end_time": "2024-05-25T08:35:10.787524Z",
     "start_time": "2024-05-25T08:35:09.182059Z"
    }
   },
   "cell_type": "code",
   "source": [
    "gradient=cv2.morphologyEx(opening,cv2.MORPH_GRADIENT, np.ones((5,5),np.uint8))\n",
    "cv2_show(gradient)"
   ],
   "id": "7673cdeae50d81e0",
   "outputs": [],
   "execution_count": 15
  },
  {
   "metadata": {
    "ExecuteTime": {
     "end_time": "2024-05-25T08:37:07.494382Z",
     "start_time": "2024-05-25T08:36:48.693328Z"
    }
   },
   "cell_type": "code",
   "source": [
    "\n",
    "gradient_2=cv2.dilate(opening,np.ones((5,5),np.uint8),iterations=1)\n",
    "gradient_2-=cv2.erode(opening,np.ones((5,5),np.uint8),iterations=1)\n",
    "hstack=cv2.hconcat([gradient,gradient_2])\n",
    "cv2_show(hstack)"
   ],
   "id": "fe27428ee492e481",
   "outputs": [],
   "execution_count": 18
  },
  {
   "metadata": {},
   "cell_type": "markdown",
   "source": "礼帽=原始减开运算",
   "id": "c8d61f1a2cfb30f"
  },
  {
   "metadata": {
    "ExecuteTime": {
     "end_time": "2024-05-25T08:42:22.685441Z",
     "start_time": "2024-05-25T08:42:15.634314Z"
    }
   },
   "cell_type": "code",
   "source": [
    "tophat=cv2.morphologyEx(sb,cv2.MORPH_TOPHAT,np.ones((7,7),np.uint8))\n",
    "cv2_show(tophat)"
   ],
   "id": "75938da03c00f4bc",
   "outputs": [],
   "execution_count": 33
  },
  {
   "metadata": {},
   "cell_type": "markdown",
   "source": "黑帽=闭运算-原始",
   "id": "cd6e1cc4669bd6bf"
  },
  {
   "metadata": {
    "ExecuteTime": {
     "end_time": "2024-05-25T08:42:56.715839Z",
     "start_time": "2024-05-25T08:42:52.269116Z"
    }
   },
   "cell_type": "code",
   "source": [
    "blackhat=cv2.morphologyEx(sb,cv2.MORPH_BLACKHAT,np.ones((8,8),np.uint8))\n",
    "cv2_show(blackhat)"
   ],
   "id": "19cdd8bd2493cc41",
   "outputs": [],
   "execution_count": 38
  }
 ],
 "metadata": {
  "kernelspec": {
   "display_name": "Python 3",
   "language": "python",
   "name": "python3"
  },
  "language_info": {
   "codemirror_mode": {
    "name": "ipython",
    "version": 2
   },
   "file_extension": ".py",
   "mimetype": "text/x-python",
   "name": "python",
   "nbconvert_exporter": "python",
   "pygments_lexer": "ipython2",
   "version": "2.7.6"
  }
 },
 "nbformat": 4,
 "nbformat_minor": 5
}
