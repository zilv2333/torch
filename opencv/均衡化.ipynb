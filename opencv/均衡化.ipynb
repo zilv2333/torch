{
 "cells": [
  {
   "cell_type": "code",
   "id": "initial_id",
   "metadata": {
    "collapsed": true,
    "ExecuteTime": {
     "end_time": "2024-06-20T15:12:34.620396Z",
     "start_time": "2024-06-20T15:12:34.532692Z"
    }
   },
   "source": [
    "import cv2\n",
    "import numpy as np\n",
    "def cv2_show(im):\n",
    "    cv2.namedWindow('image',cv2.WINDOW_NORMAL)\n",
    "    cv2.imshow('image',im)\n",
    "    cv2.waitKey(0)\n",
    "    cv2.destroyAllWindows()"
   ],
   "outputs": [],
   "execution_count": 1
  },
  {
   "metadata": {
    "ExecuteTime": {
     "end_time": "2024-06-20T15:13:16.862759Z",
     "start_time": "2024-06-20T15:13:14.427818Z"
    }
   },
   "cell_type": "code",
   "source": [
    "im=cv2.imread('../data/video/cat.jpg')\n",
    "cv2_show(im)"
   ],
   "id": "b659ccd9d5471046",
   "outputs": [],
   "execution_count": 2
  },
  {
   "metadata": {},
   "cell_type": "code",
   "outputs": [],
   "execution_count": null,
   "source": "",
   "id": "347f882a3b5ebff7"
  }
 ],
 "metadata": {
  "kernelspec": {
   "display_name": "Python 3",
   "language": "python",
   "name": "python3"
  },
  "language_info": {
   "codemirror_mode": {
    "name": "ipython",
    "version": 2
   },
   "file_extension": ".py",
   "mimetype": "text/x-python",
   "name": "python",
   "nbconvert_exporter": "python",
   "pygments_lexer": "ipython2",
   "version": "2.7.6"
  }
 },
 "nbformat": 4,
 "nbformat_minor": 5
}
