{
 "cells": [
  {
   "cell_type": "code",
   "id": "initial_id",
   "metadata": {
    "collapsed": true,
    "ExecuteTime": {
     "end_time": "2024-05-25T09:02:05.589935Z",
     "start_time": "2024-05-25T09:02:05.573758Z"
    }
   },
   "source": [
    "import cv2\n",
    "import numpy as np\n",
    "def cv2_show(im):\n",
    "    cv2.namedWindow('image',cv2.WINDOW_NORMAL)\n",
    "    cv2.imshow('image',im)\n",
    "    cv2.waitKey(0)\n",
    "    cv2.destroyAllWindows()"
   ],
   "outputs": [],
   "execution_count": 11
  },
  {
   "metadata": {},
   "cell_type": "markdown",
   "source": "sobel算子\n",
   "id": "865606bc50086fee"
  },
  {
   "metadata": {},
   "cell_type": "markdown",
   "source": [
    "GX=[[-1,0,+1],\n",
    "[-2,0,+2],\n",
    "[-1,0,+1]]*A右减左\n"
   ],
   "id": "783126cc342db21b"
  },
  {
   "metadata": {},
   "cell_type": "markdown",
   "source": "GY=[[-1,-2,-1],[0,0,0],[1,2,1]]*A下减上",
   "id": "d7fa99f208822afc"
  },
  {
   "metadata": {},
   "cell_type": "markdown",
   "source": [
    "dst=cv2.Sobel(src,ddepth,dx,dy,ksize)负数默认取0\n",
    "ddepth图像深度：通常-1，CV2.CV_64F可以取负数"
   ],
   "id": "fe83597471eb6e94"
  },
  {
   "metadata": {
    "ExecuteTime": {
     "end_time": "2024-05-25T09:07:14.661399Z",
     "start_time": "2024-05-25T09:07:13.815611Z"
    }
   },
   "cell_type": "code",
   "source": [
    "circle=cv2.imread('../data/video/circle.png')\n",
    "sobelx=cv2.Sobel(circle,cv2.CV_64F,1,0,ksize=5)\n",
    "cv2_show(sobelx)"
   ],
   "id": "ea38fa5ecb341f9",
   "outputs": [],
   "execution_count": 28
  },
  {
   "metadata": {
    "ExecuteTime": {
     "end_time": "2024-05-25T09:07:16.564887Z",
     "start_time": "2024-05-25T09:07:15.717380Z"
    }
   },
   "cell_type": "code",
   "source": [
    "sobelx=cv2.convertScaleAbs(sobelx)#取正数\n",
    "cv2_show(sobelx)"
   ],
   "id": "9b3a80a7d831dbea",
   "outputs": [],
   "execution_count": 29
  },
  {
   "metadata": {
    "ExecuteTime": {
     "end_time": "2024-05-25T09:07:18.707382Z",
     "start_time": "2024-05-25T09:07:17.634311Z"
    }
   },
   "cell_type": "code",
   "source": [
    "sobely=cv2.Sobel(circle,cv2.CV_64F,0,1,ksize=5)\n",
    "sobely=cv2.convertScaleAbs(sobely)\n",
    "cv2_show(sobely)"
   ],
   "id": "22290bd103938fef",
   "outputs": [],
   "execution_count": 30
  },
  {
   "metadata": {},
   "cell_type": "markdown",
   "source": "合并",
   "id": "598cd7cf2acdf8ad"
  },
  {
   "metadata": {
    "ExecuteTime": {
     "end_time": "2024-05-25T09:08:27.442825Z",
     "start_time": "2024-05-25T09:08:17.004010Z"
    }
   },
   "cell_type": "code",
   "source": [
    "sobelxy=cv2.addWeighted(sobelx,0.5,sobely,0.5,0)#0为偏置\n",
    "sobelxy_1=cv2.addWeighted(sobelx,1,sobely,1,0)#0为偏置\n",
    "cv2_show(cv2.hconcat([sobelxy_1,sobelxy]))"
   ],
   "id": "5017730203ec2790",
   "outputs": [],
   "execution_count": 33
  },
  {
   "metadata": {},
   "cell_type": "markdown",
   "source": "直接计算.效果不好\n",
   "id": "1f7632a5efa608a0"
  },
  {
   "metadata": {
    "ExecuteTime": {
     "end_time": "2024-05-25T09:11:10.188685Z",
     "start_time": "2024-05-25T09:11:09.170683Z"
    }
   },
   "cell_type": "code",
   "source": [
    "sobelxy_sum=cv2.Sobel(circle,cv2.CV_64F,1,1,ksize=5)\n",
    "sobelxy_sum=cv2.convertScaleAbs(sobelxy_sum)\n",
    "cv2_show(sobelxy_sum)"
   ],
   "id": "355a67939b05b26b",
   "outputs": [],
   "execution_count": 36
  },
  {
   "metadata": {
    "ExecuteTime": {
     "end_time": "2024-05-25T09:10:23.195024Z",
     "start_time": "2024-05-25T09:10:12.628577Z"
    }
   },
   "cell_type": "code",
   "source": "cv2_show(cv2.hconcat([sobelxy,sobelxy_sum]))",
   "id": "263e8b5ff9e36c60",
   "outputs": [],
   "execution_count": 35
  },
  {
   "metadata": {},
   "cell_type": "markdown",
   "source": "cat",
   "id": "432c043ff704f637"
  },
  {
   "metadata": {
    "ExecuteTime": {
     "end_time": "2024-05-25T09:12:53.498632Z",
     "start_time": "2024-05-25T09:12:52.188258Z"
    }
   },
   "cell_type": "code",
   "source": [
    "cat=cv2.imread('../data/video/cat.jpg',cv2.IMREAD_GRAYSCALE)\n",
    "cv2_show(cat)"
   ],
   "id": "32e5bb714ebeae42",
   "outputs": [],
   "execution_count": 41
  },
  {
   "metadata": {
    "ExecuteTime": {
     "end_time": "2024-05-25T09:16:52.990924Z",
     "start_time": "2024-05-25T09:14:13.912153Z"
    }
   },
   "cell_type": "code",
   "source": [
    "cat_x=cv2.Sobel(cat,cv2.CV_64F,1,0,ksize=3)\n",
    "cat_x=cv2.convertScaleAbs(cat_x)\n",
    "cat_y=cv2.Sobel(cat,cv2.CV_64F,0,1,ksize=3)\n",
    "cat_y=cv2.convertScaleAbs(cat_y)\n",
    "cat_xy=cv2.addWeighted(cat_x,0.5,cat_y,0.5,0)\n",
    "cv2_show(cat_xy)"
   ],
   "id": "d42b204f153adade",
   "outputs": [],
   "execution_count": 50
  },
  {
   "metadata": {
    "ExecuteTime": {
     "end_time": "2024-05-25T09:14:13.261079Z",
     "start_time": "2024-05-25T09:14:12.345637Z"
    }
   },
   "cell_type": "code",
   "source": [
    "cat_xy=cv2.Sobel(cat,cv2.CV_64F,1,1,ksize=3)\n",
    "cat_xy=cv2.convertScaleAbs(cat_xy)\n",
    "cv2_show(cat_xy)"
   ],
   "id": "e5289b6114fd6e08",
   "outputs": [],
   "execution_count": 49
  }
 ],
 "metadata": {
  "kernelspec": {
   "display_name": "Python 3",
   "language": "python",
   "name": "python3"
  },
  "language_info": {
   "codemirror_mode": {
    "name": "ipython",
    "version": 2
   },
   "file_extension": ".py",
   "mimetype": "text/x-python",
   "name": "python",
   "nbconvert_exporter": "python",
   "pygments_lexer": "ipython2",
   "version": "2.7.6"
  }
 },
 "nbformat": 4,
 "nbformat_minor": 5
}
