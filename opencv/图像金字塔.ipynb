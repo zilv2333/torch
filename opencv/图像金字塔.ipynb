{
 "cells": [
  {
   "metadata": {},
   "cell_type": "markdown",
   "source": "要求行列都是偶数",
   "id": "f3d40b81e0ad38b6"
  },
  {
   "cell_type": "code",
   "id": "initial_id",
   "metadata": {
    "collapsed": true,
    "ExecuteTime": {
     "end_time": "2024-05-28T13:57:54.070944Z",
     "start_time": "2024-05-28T13:57:53.941113Z"
    }
   },
   "source": [
    "import cv2\n",
    "import numpy as np\n",
    "def cv2_show(im):\n",
    "    cv2.namedWindow('image',cv2.WINDOW_NORMAL)\n",
    "    cv2.imshow('image',im)\n",
    "    cv2.waitKey(0)\n",
    "    cv2.destroyAllWindows()\n"
   ],
   "outputs": [],
   "execution_count": 1
  },
  {
   "metadata": {
    "ExecuteTime": {
     "end_time": "2024-05-27T16:06:33.950731Z",
     "start_time": "2024-05-27T16:06:33.401972Z"
    }
   },
   "cell_type": "code",
   "source": [
    "img=cv2.imread('../data/video/cat.jpg')\n",
    "cv2_show(img)\n",
    "img.shape"
   ],
   "id": "acd5ceff67d24e85",
   "outputs": [
    {
     "data": {
      "text/plain": [
       "(400, 400, 3)"
      ]
     },
     "execution_count": 19,
     "metadata": {},
     "output_type": "execute_result"
    }
   ],
   "execution_count": 19
  },
  {
   "metadata": {
    "ExecuteTime": {
     "end_time": "2024-05-27T16:06:35.249009Z",
     "start_time": "2024-05-27T16:06:34.885455Z"
    }
   },
   "cell_type": "code",
   "source": [
    "up=cv2.pyrUp(img)\n",
    "cv2_show(up)\n",
    "up.shape"
   ],
   "id": "40d0841aa30adba3",
   "outputs": [
    {
     "data": {
      "text/plain": [
       "(800, 800, 3)"
      ]
     },
     "execution_count": 20,
     "metadata": {},
     "output_type": "execute_result"
    }
   ],
   "execution_count": 20
  },
  {
   "metadata": {
    "ExecuteTime": {
     "end_time": "2024-05-27T16:06:36.738045Z",
     "start_time": "2024-05-27T16:06:36.359804Z"
    }
   },
   "cell_type": "code",
   "source": [
    "down=cv2.pyrDown(img)\n",
    "cv2_show(down)\n",
    "down.shape"
   ],
   "id": "437fbb0d111ec2d9",
   "outputs": [
    {
     "data": {
      "text/plain": [
       "(200, 200, 3)"
      ]
     },
     "execution_count": 21,
     "metadata": {},
     "output_type": "execute_result"
    }
   ],
   "execution_count": 21
  },
  {
   "metadata": {
    "ExecuteTime": {
     "end_time": "2024-05-27T16:08:00.773657Z",
     "start_time": "2024-05-27T16:07:47.149033Z"
    }
   },
   "cell_type": "code",
   "source": [
    "up_down=cv2.pyrDown(up)\n",
    "cv2_show(cv2.hconcat([img,up_down]))\n",
    "\n",
    "up_down.shape"
   ],
   "id": "d3f61ca65cf721e4",
   "outputs": [
    {
     "data": {
      "text/plain": [
       "(400, 400, 3)"
      ]
     },
     "execution_count": 22,
     "metadata": {},
     "output_type": "execute_result"
    }
   ],
   "execution_count": 22
  },
  {
   "metadata": {
    "ExecuteTime": {
     "end_time": "2024-05-27T16:08:26.064055Z",
     "start_time": "2024-05-27T16:08:21.931983Z"
    }
   },
   "cell_type": "code",
   "source": [
    "down_up=cv2.pyrUp(down)\n",
    "cv2_show(cv2.hconcat([img,down_up]))\n",
    "down_up.shape"
   ],
   "id": "af3d837b13ec2ab",
   "outputs": [
    {
     "data": {
      "text/plain": [
       "(400, 400, 3)"
      ]
     },
     "execution_count": 23,
     "metadata": {},
     "output_type": "execute_result"
    }
   ],
   "execution_count": 23
  },
  {
   "metadata": {},
   "cell_type": "markdown",
   "source": [
    "laplacian金字塔\n",
    "l=原始-低通滤波-缩小-放大-相减\n",
    "保留了卷积和下采样的损失\n"
   ],
   "id": "d7eff172f7ec9908"
  },
  {
   "metadata": {
    "ExecuteTime": {
     "end_time": "2024-05-27T16:12:26.492202Z",
     "start_time": "2024-05-27T16:12:02.405411Z"
    }
   },
   "cell_type": "code",
   "source": [
    "l=img-down_up\n",
    "cv2_show(l)"
   ],
   "id": "25af2882f398666a",
   "outputs": [],
   "execution_count": 25
  },
  {
   "metadata": {},
   "cell_type": "code",
   "outputs": [],
   "execution_count": null,
   "source": "",
   "id": "c3460a40117c4dc1"
  }
 ],
 "metadata": {
  "kernelspec": {
   "display_name": "Python 3",
   "language": "python",
   "name": "python3"
  },
  "language_info": {
   "codemirror_mode": {
    "name": "ipython",
    "version": 2
   },
   "file_extension": ".py",
   "mimetype": "text/x-python",
   "name": "python",
   "nbconvert_exporter": "python",
   "pygments_lexer": "ipython2",
   "version": "2.7.6"
  }
 },
 "nbformat": 4,
 "nbformat_minor": 5
}
