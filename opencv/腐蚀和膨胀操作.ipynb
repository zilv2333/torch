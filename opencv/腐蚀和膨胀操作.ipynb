{
 "cells": [
  {
   "cell_type": "code",
   "id": "initial_id",
   "metadata": {
    "collapsed": true,
    "ExecuteTime": {
     "end_time": "2024-05-25T08:24:33.743670Z",
     "start_time": "2024-05-25T08:24:33.588511Z"
    }
   },
   "source": [
    "import cv2\n",
    "import numpy as np\n",
    "def cv2_show(im):\n",
    "    cv2.namedWindow('image',cv2.WINDOW_NORMAL)\n",
    "    cv2.imshow('image',im)\n",
    "    cv2.waitKey(0)\n",
    "    cv2.destroyAllWindows()\n",
    "def NOISE(IM,mean=0,sigma=1,percent=0.2):\n",
    "    noisenum=int(IM.shape[0]*percent*IM.shape[1])\n",
    "    im=IM\n",
    "    for j in range(noisenum):\n",
    "        \n",
    "        randx=np.random.randint(0,im.shape[0]-1)\n",
    "        randy=np.random.randint(0,im.shape[1]-1)\n",
    "        im[randx,randy,:]=im[randx,randy,:]+np.random.normal(mean,sigma)\n",
    "        for i in range(im.shape[2]):\n",
    "            if im[randx,randy,i]<0:\n",
    "                im[randx,randy,i]=0\n",
    "            if im[randx,randy,i]>255:\n",
    "                im[randx,randy,i]=255\n",
    "    return im.astype(np.uint8)"
   ],
   "outputs": [],
   "execution_count": 1
  },
  {
   "metadata": {
    "ExecuteTime": {
     "end_time": "2024-05-24T18:48:14.060876Z",
     "start_time": "2024-05-24T18:48:12.090688Z"
    }
   },
   "cell_type": "code",
   "source": [
    "sb=cv2.imread('../data/video/SB.png')\n",
    "cv2_show(sb)\n",
    "kernel=np.ones((5,5),np.uint8)\n",
    "sb_1=cv2.erode(sb,kernel,iterations=1)\n",
    "sb_2=cv2.erode(sb,kernel,iterations=2)\n",
    "sb_3=cv2.erode(sb,kernel,iterations=3)\n",
    "sb_hstack=np.hstack([sb_1,sb_2,sb_3])\n",
    "cv2_show(sb_hstack)"
   ],
   "id": "5d0e03c7663b7cf0",
   "outputs": [],
   "execution_count": 9
  },
  {
   "metadata": {
    "ExecuteTime": {
     "end_time": "2024-05-24T18:48:39.698446Z",
     "start_time": "2024-05-24T18:48:38.475828Z"
    }
   },
   "cell_type": "code",
   "source": [
    "re_sb=cv2.dilate(sb_3,kernel,iterations=3)\n",
    "cv2_show(re_sb)"
   ],
   "id": "47b1e9b631a4785a",
   "outputs": [],
   "execution_count": 11
  },
  {
   "metadata": {
    "ExecuteTime": {
     "end_time": "2024-05-24T18:51:27.933724Z",
     "start_time": "2024-05-24T18:51:21.353336Z"
    }
   },
   "cell_type": "code",
   "source": [
    "kernel=np.ones((50,50),np.uint8)\n",
    "circle=cv2.imread('../data/video/circle.png')\n",
    "circle_1=cv2.erode(circle,kernel,iterations=1)\n",
    "circle_2=cv2.erode(circle,kernel,iterations=2)\n",
    "circle_3=cv2.erode(circle,kernel,iterations=3)\n",
    "circle_hstack=np.hstack([circle_1,circle_2,circle_3])\n",
    "cv2_show(circle_hstack)"
   ],
   "id": "e85c36cc216d0936",
   "outputs": [],
   "execution_count": 15
  },
  {
   "metadata": {
    "ExecuteTime": {
     "end_time": "2024-05-24T18:52:40.852154Z",
     "start_time": "2024-05-24T18:52:33.925140Z"
    }
   },
   "cell_type": "code",
   "source": [
    "circle_4=cv2.dilate(circle,kernel,iterations=1)\n",
    "circle_5=cv2.dilate(circle,kernel,iterations=2)\n",
    "circle_6=cv2.dilate(circle,kernel,iterations=3)\n",
    "circle_h=np.hstack([circle_4,circle_5,circle_6])\n",
    "cv2_show(circle_h)"
   ],
   "id": "54c0aaa6dd766e3e",
   "outputs": [],
   "execution_count": 16
  }
 ],
 "metadata": {
  "kernelspec": {
   "display_name": "Python 3",
   "language": "python",
   "name": "python3"
  },
  "language_info": {
   "codemirror_mode": {
    "name": "ipython",
    "version": 2
   },
   "file_extension": ".py",
   "mimetype": "text/x-python",
   "name": "python",
   "nbconvert_exporter": "python",
   "pygments_lexer": "ipython2",
   "version": "2.7.6"
  }
 },
 "nbformat": 4,
 "nbformat_minor": 5
}
