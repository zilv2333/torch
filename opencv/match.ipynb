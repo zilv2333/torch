{
 "cells": [
  {
   "cell_type": "code",
   "id": "initial_id",
   "metadata": {
    "collapsed": true,
    "ExecuteTime": {
     "end_time": "2024-06-17T12:24:47.900170Z",
     "start_time": "2024-06-17T12:24:47.799038Z"
    }
   },
   "source": [
    "import cv2\n",
    "import numpy as np\n",
    "def cv2_show(im):\n",
    "    cv2.namedWindow('image',cv2.WINDOW_NORMAL)\n",
    "    cv2.imshow('image',im)\n",
    "    cv2.waitKey(0)\n",
    "    cv2.destroyAllWindows()"
   ],
   "outputs": [],
   "execution_count": 1
  },
  {
   "metadata": {
    "ExecuteTime": {
     "end_time": "2024-06-17T12:32:00.769256Z",
     "start_time": "2024-06-17T12:31:59.951688Z"
    }
   },
   "cell_type": "code",
   "source": [
    "img=cv2.imread('../data/video/cat.jpg')\n",
    "\n",
    "match=cv2.imread('../data/video/cat_ma.png')\n",
    "size=match.shape\n",
    "cv2_show(img)\n",
    "cv2_show(match)\n"
   ],
   "id": "2aeb5601550aa4b9",
   "outputs": [],
   "execution_count": 8
  },
  {
   "metadata": {
    "ExecuteTime": {
     "end_time": "2024-06-17T12:31:09.555668Z",
     "start_time": "2024-06-17T12:31:09.542559Z"
    }
   },
   "cell_type": "code",
   "source": "size",
   "id": "f2e6a8109f107a54",
   "outputs": [
    {
     "data": {
      "text/plain": [
       "(182, 207, 3)"
      ]
     },
     "execution_count": 5,
     "metadata": {},
     "output_type": "execute_result"
    }
   ],
   "execution_count": 5
  },
  {
   "metadata": {
    "ExecuteTime": {
     "end_time": "2024-06-17T12:32:04.432432Z",
     "start_time": "2024-06-17T12:32:01.604972Z"
    }
   },
   "cell_type": "code",
   "source": [
    "res=cv2.matchTemplate(img,match,cv2.TM_CCOEFF_NORMED)\n",
    "min_val, max_val, min_loc, max_loc = cv2.minMaxLoc(res)\n",
    "cv2.rectangle(img,max_loc,(max_loc[0]+size[0],max_loc[1]+size[1]),(255,0,0),2)\n",
    "cv2_show(img)"
   ],
   "id": "299ac510a314b5cf",
   "outputs": [],
   "execution_count": 9
  },
  {
   "metadata": {
    "ExecuteTime": {
     "end_time": "2024-06-17T12:32:24.874500Z",
     "start_time": "2024-06-17T12:32:21.209339Z"
    }
   },
   "cell_type": "code",
   "source": "cv2_show(res)",
   "id": "857b8a3be442dd42",
   "outputs": [],
   "execution_count": 10
  }
 ],
 "metadata": {
  "kernelspec": {
   "display_name": "Python 3",
   "language": "python",
   "name": "python3"
  },
  "language_info": {
   "codemirror_mode": {
    "name": "ipython",
    "version": 2
   },
   "file_extension": ".py",
   "mimetype": "text/x-python",
   "name": "python",
   "nbconvert_exporter": "python",
   "pygments_lexer": "ipython2",
   "version": "2.7.6"
  }
 },
 "nbformat": 4,
 "nbformat_minor": 5
}
