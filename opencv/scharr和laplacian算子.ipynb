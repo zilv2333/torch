{
 "cells": [
  {
   "cell_type": "code",
   "id": "initial_id",
   "metadata": {
    "collapsed": true,
    "ExecuteTime": {
     "end_time": "2024-05-25T09:17:37.161384Z",
     "start_time": "2024-05-25T09:17:37.052543Z"
    }
   },
   "source": [
    "import cv2\n",
    "import numpy as np\n",
    "def cv2_show(im):\n",
    "    cv2.namedWindow('image',cv2.WINDOW_NORMAL)\n",
    "    cv2.imshow('image',im)\n",
    "    cv2.waitKey(0)\n",
    "    cv2.destroyAllWindows()"
   ],
   "outputs": [],
   "execution_count": 1
  },
  {
   "metadata": {},
   "cell_type": "markdown",
   "source": "scharr",
   "id": "f4c9b3b0b4092fad"
  },
  {
   "metadata": {},
   "cell_type": "markdown",
   "source": "gx=[[-3,0,3][-10,0,10][-3,0,3]]",
   "id": "f463c518b3181522"
  },
  {
   "metadata": {},
   "cell_type": "markdown",
   "source": "laplacian算子\n",
   "id": "9b0f566557d9542b"
  },
  {
   "metadata": {},
   "cell_type": "markdown",
   "source": "g=[0,1,0][1,-4,1][0,1,0]",
   "id": "7f7c7c29be01c005"
  },
  {
   "metadata": {
    "ExecuteTime": {
     "end_time": "2024-05-25T09:27:29.662193Z",
     "start_time": "2024-05-25T09:27:08.318001Z"
    }
   },
   "cell_type": "code",
   "source": [
    "cat=cv2.imread('../data/video/cat.jpg',cv2.IMREAD_GRAYSCALE)\n",
    "cat_x=cv2.Sobel(cat,cv2.CV_64F,1,0,ksize=3)\n",
    "cat_x=cv2.convertScaleAbs(cat_x)\n",
    "cat_y=cv2.Sobel(cat,cv2.CV_64F,0,1,ksize=3)\n",
    "cat_y=cv2.convertScaleAbs(cat_y)\n",
    "sobel_cat=cv2.addWeighted(cat_x,0.5,cat_y,0.5,0)\n",
    "\n",
    "scharrx=cv2.Scharr(cat,cv2.CV_64F,1,0)\n",
    "scharrx=cv2.convertScaleAbs(scharrx)\n",
    "scharry=cv2.Scharr(cat,cv2.CV_64F,0,1)\n",
    "scharry=cv2.convertScaleAbs(scharry)\n",
    "scharrxy=cv2.addWeighted(scharrx,0.5,scharry,0.5,0)\n",
    "\n",
    "laplacian=cv2.Laplacian(cat,cv2.CV_64F)\n",
    "laplacian=cv2.convertScaleAbs(laplacian)\n",
    "\n",
    "cv2_show(cv2.hconcat([sobel_cat,scharrxy,laplacian]))"
   ],
   "id": "e246df6fc443fcbf",
   "outputs": [],
   "execution_count": 4
  },
  {
   "metadata": {},
   "cell_type": "markdown",
   "source": "scharr更敏感",
   "id": "742b3db9d3f74c0"
  }
 ],
 "metadata": {
  "kernelspec": {
   "display_name": "Python 3",
   "language": "python",
   "name": "python3"
  },
  "language_info": {
   "codemirror_mode": {
    "name": "ipython",
    "version": 2
   },
   "file_extension": ".py",
   "mimetype": "text/x-python",
   "name": "python",
   "nbconvert_exporter": "python",
   "pygments_lexer": "ipython2",
   "version": "2.7.6"
  }
 },
 "nbformat": 4,
 "nbformat_minor": 5
}
