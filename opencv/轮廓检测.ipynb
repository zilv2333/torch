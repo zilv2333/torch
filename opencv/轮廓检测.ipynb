{
 "cells": [
  {
   "cell_type": "code",
   "id": "initial_id",
   "metadata": {
    "collapsed": true,
    "ExecuteTime": {
     "end_time": "2024-06-17T12:09:27.334305Z",
     "start_time": "2024-06-17T12:09:27.210625Z"
    }
   },
   "source": [
    "import cv2\n",
    "import numpy as np\n",
    "def cv2_show(im):\n",
    "    cv2.namedWindow('image',cv2.WINDOW_NORMAL)\n",
    "    cv2.imshow('image',im)\n",
    "    cv2.waitKey(0)\n",
    "    cv2.destroyAllWindows()"
   ],
   "outputs": [],
   "execution_count": 1
  },
  {
   "metadata": {},
   "cell_type": "markdown",
   "source": "cv.findContours(im,mode,method)\n",
   "id": "6a3a41e122318e47"
  },
  {
   "metadata": {},
   "cell_type": "markdown",
   "source": "mode:RETR_EXTERNAL   最外面轮廓，LIST所有轮廓，CCOMP所有轮廓，两层，TREE所有轮廓，多层",
   "id": "45ca3a6a86ec2c8c"
  },
  {
   "metadata": {},
   "cell_type": "markdown",
   "source": "method:CHAIN_APPROX_NONE输出多边形，SIMPLE只保留顶点",
   "id": "9ce7d6e9acdd4611"
  },
  {
   "metadata": {
    "ExecuteTime": {
     "end_time": "2024-06-17T12:10:39.911151Z",
     "start_time": "2024-06-17T12:09:27.335307Z"
    }
   },
   "cell_type": "code",
   "source": [
    "im=cv2.imread('../data/video/star.png')\n",
    "gray=cv2.cvtColor(im,cv2.COLOR_BGR2GRAY)\n",
    "cv2_show(im)\n",
    "_,thresh=cv2.threshold(gray,127,255,cv2.THRESH_BINARY)\n",
    "cv2_show(thresh)\n"
   ],
   "id": "d1e25a33a70f0c78",
   "outputs": [],
   "execution_count": 2
  },
  {
   "metadata": {
    "ExecuteTime": {
     "end_time": "2024-06-17T12:10:39.927316Z",
     "start_time": "2024-06-17T12:10:39.912294Z"
    }
   },
   "cell_type": "code",
   "source": "contours,hierarchy=cv2.findContours(thresh,cv2.RETR_TREE,cv2.CHAIN_APPROX_NONE)\n",
   "id": "4ef4892c0555822f",
   "outputs": [],
   "execution_count": 3
  },
  {
   "metadata": {},
   "cell_type": "markdown",
   "source": "cv2.drawContours(im,contours,idx,color,thickness)轮廓，轮廓索引，颜色模式，线条厚度",
   "id": "8caf7aef94415b3d"
  },
  {
   "metadata": {
    "ExecuteTime": {
     "end_time": "2024-06-17T12:10:40.760917Z",
     "start_time": "2024-06-17T12:10:39.928315Z"
    }
   },
   "cell_type": "code",
   "source": [
    "draw_img=im.copy()\n",
    "res=cv2.drawContours(draw_img,contours,-1,(0,0,255),2)\n",
    "cv2_show(res)"
   ],
   "id": "93b98bf24a9af44",
   "outputs": [],
   "execution_count": 4
  },
  {
   "metadata": {
    "ExecuteTime": {
     "end_time": "2024-06-17T12:10:41.590340Z",
     "start_time": "2024-06-17T12:10:40.763426Z"
    }
   },
   "cell_type": "code",
   "source": [
    "draw_img=im.copy()\n",
    "res_2=cv2.drawContours(draw_img,contours,2,(0,0,255),2)\n",
    "cv2_show(res_2)"
   ],
   "id": "c5867fa18b5c14b8",
   "outputs": [],
   "execution_count": 5
  },
  {
   "metadata": {},
   "cell_type": "markdown",
   "source": "面积",
   "id": "c47cf97b75681521"
  },
  {
   "metadata": {
    "ExecuteTime": {
     "end_time": "2024-06-17T12:11:15.160532Z",
     "start_time": "2024-06-17T12:11:15.141460Z"
    }
   },
   "cell_type": "code",
   "source": "cv2.contourArea(contours[0])",
   "id": "4ec750b51a1bc92e",
   "outputs": [
    {
     "data": {
      "text/plain": [
       "5540.0"
      ]
     },
     "execution_count": 6,
     "metadata": {},
     "output_type": "execute_result"
    }
   ],
   "execution_count": 6
  },
  {
   "metadata": {},
   "cell_type": "markdown",
   "source": "周长",
   "id": "ff2a12928e74add9"
  },
  {
   "metadata": {
    "ExecuteTime": {
     "end_time": "2024-06-17T12:11:35.660470Z",
     "start_time": "2024-06-17T12:11:35.652710Z"
    }
   },
   "cell_type": "code",
   "source": "cv2.arcLength(contours[0],True)",
   "id": "dbb3c6747cc1848e",
   "outputs": [
    {
     "data": {
      "text/plain": [
       "362.45079135894775"
      ]
     },
     "execution_count": 7,
     "metadata": {},
     "output_type": "execute_result"
    }
   ],
   "execution_count": 7
  },
  {
   "metadata": {
    "ExecuteTime": {
     "end_time": "2024-06-17T12:20:11.582821Z",
     "start_time": "2024-06-17T12:20:10.928501Z"
    }
   },
   "cell_type": "code",
   "source": [
    "img=cv2.imread('../data/video/contours.png')\n",
    "gray=cv2.cvtColor(img,cv2.COLOR_BGR2GRAY)\n",
    "cv2_show(gray)"
   ],
   "id": "8d47141fec173ed5",
   "outputs": [],
   "execution_count": 27
  },
  {
   "metadata": {
    "ExecuteTime": {
     "end_time": "2024-06-17T12:20:16.513423Z",
     "start_time": "2024-06-17T12:20:16.096733Z"
    }
   },
   "cell_type": "code",
   "source": [
    "contours,hierarchy=cv2.findContours(gray,cv2.RETR_TREE,cv2.CHAIN_APPROX_NONE)\n",
    "cnt=contours[0]\n",
    "draw_img=img.copy()\n",
    "cv2.drawContours(draw_img,cnt,-1,(0,0,255),2)\n",
    "cv2_show(draw_img)"
   ],
   "id": "8f68115ae8c2b762",
   "outputs": [],
   "execution_count": 29
  },
  {
   "metadata": {
    "ExecuteTime": {
     "end_time": "2024-06-17T12:20:41.884306Z",
     "start_time": "2024-06-17T12:20:40.854032Z"
    }
   },
   "cell_type": "code",
   "source": [
    "epsilon=cv2.arcLength(cnt,True)*0.000001\n",
    "approx=cv2.approxPolyDP(cnt,epsilon,True)\n",
    "draw_img=img.copy()\n",
    "cv2.drawContours(draw_img,approx,-1,(0,0,255),2)\n",
    "cv2_show(draw_img)"
   ],
   "id": "6c4705d7cef53e13",
   "outputs": [],
   "execution_count": 35
  },
  {
   "metadata": {
    "ExecuteTime": {
     "end_time": "2024-06-17T12:23:49.581402Z",
     "start_time": "2024-06-17T12:23:47.833084Z"
    }
   },
   "cell_type": "code",
   "source": [
    "img=cv2.imread('../data/video/star.png')\n",
    "gray=cv2.cvtColor(img,cv2.COLOR_BGR2GRAY)\n",
    "\n",
    "contours,hierarchy=cv2.findContours(gray,cv2.RETR_TREE,cv2.CHAIN_APPROX_NONE)\n",
    "cnt=contours[0]\n",
    "draw_img=img.copy()\n",
    "cv2.drawContours(draw_img,cnt,-1,(0,0,255),2)\n",
    "cv2_show(draw_img)\n",
    "x,y,w,h=cv2.boundingRect(cnt)\n",
    "draw_img=img.copy()\n",
    "cv2.rectangle(draw_img,(x,y),(x+w,y+h),(0,255,0),2)\n",
    "\n",
    "cv2_show(draw_img)\n"
   ],
   "id": "edd397af4d99045b",
   "outputs": [],
   "execution_count": 44
  },
  {
   "metadata": {},
   "cell_type": "code",
   "outputs": [],
   "execution_count": null,
   "source": "",
   "id": "803a7c9cee4921c0"
  }
 ],
 "metadata": {
  "kernelspec": {
   "display_name": "Python 3",
   "language": "python",
   "name": "python3"
  },
  "language_info": {
   "codemirror_mode": {
    "name": "ipython",
    "version": 2
   },
   "file_extension": ".py",
   "mimetype": "text/x-python",
   "name": "python",
   "nbconvert_exporter": "python",
   "pygments_lexer": "ipython2",
   "version": "2.7.6"
  }
 },
 "nbformat": 4,
 "nbformat_minor": 5
}
