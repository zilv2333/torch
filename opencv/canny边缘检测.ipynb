{
 "cells": [
  {
   "metadata": {},
   "cell_type": "markdown",
   "source": [
    "1.高斯滤波\n",
    "2.计算梯度(sobel算子)\n",
    "3.非极大值抑制\n",
    "4.双阈值\n",
    "5.抑制孤立的弱边缘"
   ],
   "id": "c767d0080a1a5aed"
  },
  {
   "metadata": {
    "ExecuteTime": {
     "end_time": "2024-05-28T14:17:28.863295Z",
     "start_time": "2024-05-28T14:17:28.740402Z"
    }
   },
   "cell_type": "code",
   "source": [
    "import cv2\n",
    "import numpy as np\n",
    "def cv2_show(im):\n",
    "    cv2.namedWindow('image',cv2.WINDOW_NORMAL)\n",
    "    cv2.imshow('image',im)\n",
    "    cv2.waitKey(0)\n",
    "    cv2.destroyAllWindows()\n",
    "def NOISE(IM,mean=0,sigma=1,percent=0.2):\n",
    "    noisenum=int(IM.shape[0]*percent*IM.shape[1])\n",
    "    im=IM\n",
    "    for j in range(noisenum):\n",
    "        \n",
    "        randx=np.random.randint(0,im.shape[0]-1)\n",
    "        randy=np.random.randint(0,im.shape[1]-1)\n",
    "        im[randx,randy,:]=im[randx,randy,:]+np.random.normal(mean,sigma)\n",
    "        for i in range(im.shape[2]):\n",
    "            if im[randx,randy,i]<0:\n",
    "                im[randx,randy,i]=0\n",
    "            if im[randx,randy,i]>255:\n",
    "                im[randx,randy,i]=255\n",
    "    return im.astype(np.uint8)"
   ],
   "id": "cc7d199fc764576c",
   "outputs": [],
   "execution_count": 1
  },
  {
   "metadata": {
    "ExecuteTime": {
     "end_time": "2024-05-28T14:17:32.016355Z",
     "start_time": "2024-05-28T14:17:28.864477Z"
    }
   },
   "cell_type": "code",
   "source": [
    "img=cv2.imread('../data/video/cat.jpg',cv2.IMREAD_GRAYSCALE)\n",
    "cv2_show(img)"
   ],
   "id": "b8b3e104620af6ad",
   "outputs": [],
   "execution_count": 2
  },
  {
   "metadata": {
    "ExecuteTime": {
     "end_time": "2024-05-28T14:17:32.902693Z",
     "start_time": "2024-05-28T14:17:32.017356Z"
    }
   },
   "cell_type": "code",
   "source": [
    "v1=cv2.Canny(img,100,200)\n",
    "v2=cv2.Canny(img,50,100)\n",
    "cv2_show(v1)\n",
    "cv2_show(v2)"
   ],
   "id": "3df45fabed652021",
   "outputs": [],
   "execution_count": 3
  }
 ],
 "metadata": {
  "kernelspec": {
   "display_name": "Python 3",
   "language": "python",
   "name": "python3"
  },
  "language_info": {
   "codemirror_mode": {
    "name": "ipython",
    "version": 2
   },
   "file_extension": ".py",
   "mimetype": "text/x-python",
   "name": "python",
   "nbconvert_exporter": "python",
   "pygments_lexer": "ipython2",
   "version": "2.7.6"
  }
 },
 "nbformat": 4,
 "nbformat_minor": 5
}
